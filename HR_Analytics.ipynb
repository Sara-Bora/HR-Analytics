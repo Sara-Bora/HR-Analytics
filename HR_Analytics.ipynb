{
  "cells": [
    {
      "cell_type": "markdown",
      "metadata": {
        "id": "view-in-github",
        "colab_type": "text"
      },
      "source": [
        "<a href=\"https://colab.research.google.com/github/Sara-Bora/HR-Analytics/blob/main/HR_Analytics.ipynb\" target=\"_parent\"><img src=\"https://colab.research.google.com/assets/colab-badge.svg\" alt=\"Open In Colab\"/></a>"
      ]
    },
    {
      "cell_type": "code",
      "execution_count": 7,
      "id": "00bcd55a",
      "metadata": {
        "id": "00bcd55a"
      },
      "outputs": [],
      "source": [
        "#Importing the libraries\n",
        "import pandas as pd\n",
        "import numpy as np\n",
        "import matplotlib.pyplot as plt\n",
        "import seaborn as sns\n",
        "import warnings\n",
        "warnings.filterwarnings(\"ignore\")"
      ]
    },
    {
      "cell_type": "code",
      "execution_count": 8,
      "id": "f3c9ff2b",
      "metadata": {
        "id": "f3c9ff2b"
      },
      "outputs": [],
      "source": [
        "#Importing the dataset\n",
        "hr=pd.read_csv(\"hr.csv\")"
      ]
    },
    {
      "cell_type": "code",
      "execution_count": 9,
      "id": "29596709",
      "metadata": {
        "colab": {
          "base_uri": "https://localhost:8080/",
          "height": 322
        },
        "id": "29596709",
        "outputId": "b133ef80-91de-4af9-adac-30bff6af004d"
      },
      "outputs": [
        {
          "output_type": "execute_result",
          "data": {
            "text/plain": [
              "   employee_id         department     region         education gender  \\\n",
              "0        65438  Sales & Marketing   region_7  Master's & above      f   \n",
              "1        65141         Operations  region_22        Bachelor's      m   \n",
              "2         7513  Sales & Marketing  region_19        Bachelor's      m   \n",
              "3         2542  Sales & Marketing  region_23        Bachelor's      m   \n",
              "4        48945         Technology  region_26        Bachelor's      m   \n",
              "\n",
              "  recruitment_channel  no_of_trainings  age  previous_year_rating  \\\n",
              "0            sourcing                1   35                   5.0   \n",
              "1               other                1   30                   5.0   \n",
              "2            sourcing                1   34                   3.0   \n",
              "3               other                2   39                   1.0   \n",
              "4               other                1   45                   3.0   \n",
              "\n",
              "   length_of_service  awards_won?  avg_training_score  is_promoted  \n",
              "0                  8            0                  49            0  \n",
              "1                  4            0                  60            0  \n",
              "2                  7            0                  50            0  \n",
              "3                 10            0                  50            0  \n",
              "4                  2            0                  73            0  "
            ],
            "text/html": [
              "\n",
              "  <div id=\"df-9dab4e32-6951-4850-906d-dff9fbe950d8\">\n",
              "    <div class=\"colab-df-container\">\n",
              "      <div>\n",
              "<style scoped>\n",
              "    .dataframe tbody tr th:only-of-type {\n",
              "        vertical-align: middle;\n",
              "    }\n",
              "\n",
              "    .dataframe tbody tr th {\n",
              "        vertical-align: top;\n",
              "    }\n",
              "\n",
              "    .dataframe thead th {\n",
              "        text-align: right;\n",
              "    }\n",
              "</style>\n",
              "<table border=\"1\" class=\"dataframe\">\n",
              "  <thead>\n",
              "    <tr style=\"text-align: right;\">\n",
              "      <th></th>\n",
              "      <th>employee_id</th>\n",
              "      <th>department</th>\n",
              "      <th>region</th>\n",
              "      <th>education</th>\n",
              "      <th>gender</th>\n",
              "      <th>recruitment_channel</th>\n",
              "      <th>no_of_trainings</th>\n",
              "      <th>age</th>\n",
              "      <th>previous_year_rating</th>\n",
              "      <th>length_of_service</th>\n",
              "      <th>awards_won?</th>\n",
              "      <th>avg_training_score</th>\n",
              "      <th>is_promoted</th>\n",
              "    </tr>\n",
              "  </thead>\n",
              "  <tbody>\n",
              "    <tr>\n",
              "      <th>0</th>\n",
              "      <td>65438</td>\n",
              "      <td>Sales &amp; Marketing</td>\n",
              "      <td>region_7</td>\n",
              "      <td>Master's &amp; above</td>\n",
              "      <td>f</td>\n",
              "      <td>sourcing</td>\n",
              "      <td>1</td>\n",
              "      <td>35</td>\n",
              "      <td>5.0</td>\n",
              "      <td>8</td>\n",
              "      <td>0</td>\n",
              "      <td>49</td>\n",
              "      <td>0</td>\n",
              "    </tr>\n",
              "    <tr>\n",
              "      <th>1</th>\n",
              "      <td>65141</td>\n",
              "      <td>Operations</td>\n",
              "      <td>region_22</td>\n",
              "      <td>Bachelor's</td>\n",
              "      <td>m</td>\n",
              "      <td>other</td>\n",
              "      <td>1</td>\n",
              "      <td>30</td>\n",
              "      <td>5.0</td>\n",
              "      <td>4</td>\n",
              "      <td>0</td>\n",
              "      <td>60</td>\n",
              "      <td>0</td>\n",
              "    </tr>\n",
              "    <tr>\n",
              "      <th>2</th>\n",
              "      <td>7513</td>\n",
              "      <td>Sales &amp; Marketing</td>\n",
              "      <td>region_19</td>\n",
              "      <td>Bachelor's</td>\n",
              "      <td>m</td>\n",
              "      <td>sourcing</td>\n",
              "      <td>1</td>\n",
              "      <td>34</td>\n",
              "      <td>3.0</td>\n",
              "      <td>7</td>\n",
              "      <td>0</td>\n",
              "      <td>50</td>\n",
              "      <td>0</td>\n",
              "    </tr>\n",
              "    <tr>\n",
              "      <th>3</th>\n",
              "      <td>2542</td>\n",
              "      <td>Sales &amp; Marketing</td>\n",
              "      <td>region_23</td>\n",
              "      <td>Bachelor's</td>\n",
              "      <td>m</td>\n",
              "      <td>other</td>\n",
              "      <td>2</td>\n",
              "      <td>39</td>\n",
              "      <td>1.0</td>\n",
              "      <td>10</td>\n",
              "      <td>0</td>\n",
              "      <td>50</td>\n",
              "      <td>0</td>\n",
              "    </tr>\n",
              "    <tr>\n",
              "      <th>4</th>\n",
              "      <td>48945</td>\n",
              "      <td>Technology</td>\n",
              "      <td>region_26</td>\n",
              "      <td>Bachelor's</td>\n",
              "      <td>m</td>\n",
              "      <td>other</td>\n",
              "      <td>1</td>\n",
              "      <td>45</td>\n",
              "      <td>3.0</td>\n",
              "      <td>2</td>\n",
              "      <td>0</td>\n",
              "      <td>73</td>\n",
              "      <td>0</td>\n",
              "    </tr>\n",
              "  </tbody>\n",
              "</table>\n",
              "</div>\n",
              "      <button class=\"colab-df-convert\" onclick=\"convertToInteractive('df-9dab4e32-6951-4850-906d-dff9fbe950d8')\"\n",
              "              title=\"Convert this dataframe to an interactive table.\"\n",
              "              style=\"display:none;\">\n",
              "        \n",
              "  <svg xmlns=\"http://www.w3.org/2000/svg\" height=\"24px\"viewBox=\"0 0 24 24\"\n",
              "       width=\"24px\">\n",
              "    <path d=\"M0 0h24v24H0V0z\" fill=\"none\"/>\n",
              "    <path d=\"M18.56 5.44l.94 2.06.94-2.06 2.06-.94-2.06-.94-.94-2.06-.94 2.06-2.06.94zm-11 1L8.5 8.5l.94-2.06 2.06-.94-2.06-.94L8.5 2.5l-.94 2.06-2.06.94zm10 10l.94 2.06.94-2.06 2.06-.94-2.06-.94-.94-2.06-.94 2.06-2.06.94z\"/><path d=\"M17.41 7.96l-1.37-1.37c-.4-.4-.92-.59-1.43-.59-.52 0-1.04.2-1.43.59L10.3 9.45l-7.72 7.72c-.78.78-.78 2.05 0 2.83L4 21.41c.39.39.9.59 1.41.59.51 0 1.02-.2 1.41-.59l7.78-7.78 2.81-2.81c.8-.78.8-2.07 0-2.86zM5.41 20L4 18.59l7.72-7.72 1.47 1.35L5.41 20z\"/>\n",
              "  </svg>\n",
              "      </button>\n",
              "      \n",
              "  <style>\n",
              "    .colab-df-container {\n",
              "      display:flex;\n",
              "      flex-wrap:wrap;\n",
              "      gap: 12px;\n",
              "    }\n",
              "\n",
              "    .colab-df-convert {\n",
              "      background-color: #E8F0FE;\n",
              "      border: none;\n",
              "      border-radius: 50%;\n",
              "      cursor: pointer;\n",
              "      display: none;\n",
              "      fill: #1967D2;\n",
              "      height: 32px;\n",
              "      padding: 0 0 0 0;\n",
              "      width: 32px;\n",
              "    }\n",
              "\n",
              "    .colab-df-convert:hover {\n",
              "      background-color: #E2EBFA;\n",
              "      box-shadow: 0px 1px 2px rgba(60, 64, 67, 0.3), 0px 1px 3px 1px rgba(60, 64, 67, 0.15);\n",
              "      fill: #174EA6;\n",
              "    }\n",
              "\n",
              "    [theme=dark] .colab-df-convert {\n",
              "      background-color: #3B4455;\n",
              "      fill: #D2E3FC;\n",
              "    }\n",
              "\n",
              "    [theme=dark] .colab-df-convert:hover {\n",
              "      background-color: #434B5C;\n",
              "      box-shadow: 0px 1px 3px 1px rgba(0, 0, 0, 0.15);\n",
              "      filter: drop-shadow(0px 1px 2px rgba(0, 0, 0, 0.3));\n",
              "      fill: #FFFFFF;\n",
              "    }\n",
              "  </style>\n",
              "\n",
              "      <script>\n",
              "        const buttonEl =\n",
              "          document.querySelector('#df-9dab4e32-6951-4850-906d-dff9fbe950d8 button.colab-df-convert');\n",
              "        buttonEl.style.display =\n",
              "          google.colab.kernel.accessAllowed ? 'block' : 'none';\n",
              "\n",
              "        async function convertToInteractive(key) {\n",
              "          const element = document.querySelector('#df-9dab4e32-6951-4850-906d-dff9fbe950d8');\n",
              "          const dataTable =\n",
              "            await google.colab.kernel.invokeFunction('convertToInteractive',\n",
              "                                                     [key], {});\n",
              "          if (!dataTable) return;\n",
              "\n",
              "          const docLinkHtml = 'Like what you see? Visit the ' +\n",
              "            '<a target=\"_blank\" href=https://colab.research.google.com/notebooks/data_table.ipynb>data table notebook</a>'\n",
              "            + ' to learn more about interactive tables.';\n",
              "          element.innerHTML = '';\n",
              "          dataTable['output_type'] = 'display_data';\n",
              "          await google.colab.output.renderOutput(dataTable, element);\n",
              "          const docLink = document.createElement('div');\n",
              "          docLink.innerHTML = docLinkHtml;\n",
              "          element.appendChild(docLink);\n",
              "        }\n",
              "      </script>\n",
              "    </div>\n",
              "  </div>\n",
              "  "
            ]
          },
          "metadata": {},
          "execution_count": 9
        }
      ],
      "source": [
        "hr.head() # The head() gives the first 5 rows of the dataset"
      ]
    },
    {
      "cell_type": "code",
      "execution_count": 10,
      "id": "06f2e9f4",
      "metadata": {
        "scrolled": false,
        "colab": {
          "base_uri": "https://localhost:8080/"
        },
        "id": "06f2e9f4",
        "outputId": "eb34b4ed-e3de-4106-d09c-18a3522ac5ee"
      },
      "outputs": [
        {
          "output_type": "stream",
          "name": "stdout",
          "text": [
            "<class 'pandas.core.frame.DataFrame'>\n",
            "RangeIndex: 8089 entries, 0 to 8088\n",
            "Data columns (total 13 columns):\n",
            " #   Column                Non-Null Count  Dtype  \n",
            "---  ------                --------------  -----  \n",
            " 0   employee_id           8089 non-null   int64  \n",
            " 1   department            8089 non-null   object \n",
            " 2   region                8089 non-null   object \n",
            " 3   education             7701 non-null   object \n",
            " 4   gender                8089 non-null   object \n",
            " 5   recruitment_channel   8089 non-null   object \n",
            " 6   no_of_trainings       8089 non-null   int64  \n",
            " 7   age                   8089 non-null   int64  \n",
            " 8   previous_year_rating  7480 non-null   float64\n",
            " 9   length_of_service     8089 non-null   int64  \n",
            " 10  awards_won?           8089 non-null   int64  \n",
            " 11  avg_training_score    8089 non-null   int64  \n",
            " 12  is_promoted           8089 non-null   int64  \n",
            "dtypes: float64(1), int64(7), object(5)\n",
            "memory usage: 821.7+ KB\n"
          ]
        }
      ],
      "source": [
        "hr.info() #The info() method prints information about the DataFrame. "
      ]
    },
    {
      "cell_type": "markdown",
      "id": "0548b9e5",
      "metadata": {
        "id": "0548b9e5"
      },
      "source": [
        "There are a few columns that have the datatype as 'object' which are strings. There are also missing values in the column 'education' and 'previous_year_rating'. We will need to handle column types and missing values in data cleaning."
      ]
    },
    {
      "cell_type": "code",
      "execution_count": 11,
      "id": "9a34dca6",
      "metadata": {
        "colab": {
          "base_uri": "https://localhost:8080/",
          "height": 300
        },
        "id": "9a34dca6",
        "outputId": "b8f8e36f-d944-4a9c-d377-a381aa58d0e7"
      },
      "outputs": [
        {
          "output_type": "execute_result",
          "data": {
            "text/plain": [
              "        employee_id  no_of_trainings          age  previous_year_rating  \\\n",
              "count   8089.000000      8089.000000  8089.000000           7480.000000   \n",
              "mean   38967.264680         1.251329    34.789591              3.344251   \n",
              "std    22519.426535         0.602916     7.654976              1.248856   \n",
              "min        5.000000         1.000000    20.000000              1.000000   \n",
              "25%    19445.000000         1.000000    29.000000              3.000000   \n",
              "50%    38668.000000         1.000000    33.000000              3.000000   \n",
              "75%    58530.000000         1.000000    39.000000              4.000000   \n",
              "max    78287.000000        10.000000    60.000000              5.000000   \n",
              "\n",
              "       length_of_service  awards_won?  avg_training_score  is_promoted  \n",
              "count        8089.000000  8089.000000         8089.000000  8089.000000  \n",
              "mean            5.928050     0.024107           63.716529     0.089504  \n",
              "std             4.334723     0.153390           13.547655     0.285488  \n",
              "min             1.000000     0.000000           39.000000     0.000000  \n",
              "25%             3.000000     0.000000           51.000000     0.000000  \n",
              "50%             5.000000     0.000000           60.000000     0.000000  \n",
              "75%             8.000000     0.000000           77.000000     0.000000  \n",
              "max            34.000000     1.000000           99.000000     1.000000  "
            ],
            "text/html": [
              "\n",
              "  <div id=\"df-123193cc-a5bb-44f3-a866-21fff562d1f1\">\n",
              "    <div class=\"colab-df-container\">\n",
              "      <div>\n",
              "<style scoped>\n",
              "    .dataframe tbody tr th:only-of-type {\n",
              "        vertical-align: middle;\n",
              "    }\n",
              "\n",
              "    .dataframe tbody tr th {\n",
              "        vertical-align: top;\n",
              "    }\n",
              "\n",
              "    .dataframe thead th {\n",
              "        text-align: right;\n",
              "    }\n",
              "</style>\n",
              "<table border=\"1\" class=\"dataframe\">\n",
              "  <thead>\n",
              "    <tr style=\"text-align: right;\">\n",
              "      <th></th>\n",
              "      <th>employee_id</th>\n",
              "      <th>no_of_trainings</th>\n",
              "      <th>age</th>\n",
              "      <th>previous_year_rating</th>\n",
              "      <th>length_of_service</th>\n",
              "      <th>awards_won?</th>\n",
              "      <th>avg_training_score</th>\n",
              "      <th>is_promoted</th>\n",
              "    </tr>\n",
              "  </thead>\n",
              "  <tbody>\n",
              "    <tr>\n",
              "      <th>count</th>\n",
              "      <td>8089.000000</td>\n",
              "      <td>8089.000000</td>\n",
              "      <td>8089.000000</td>\n",
              "      <td>7480.000000</td>\n",
              "      <td>8089.000000</td>\n",
              "      <td>8089.000000</td>\n",
              "      <td>8089.000000</td>\n",
              "      <td>8089.000000</td>\n",
              "    </tr>\n",
              "    <tr>\n",
              "      <th>mean</th>\n",
              "      <td>38967.264680</td>\n",
              "      <td>1.251329</td>\n",
              "      <td>34.789591</td>\n",
              "      <td>3.344251</td>\n",
              "      <td>5.928050</td>\n",
              "      <td>0.024107</td>\n",
              "      <td>63.716529</td>\n",
              "      <td>0.089504</td>\n",
              "    </tr>\n",
              "    <tr>\n",
              "      <th>std</th>\n",
              "      <td>22519.426535</td>\n",
              "      <td>0.602916</td>\n",
              "      <td>7.654976</td>\n",
              "      <td>1.248856</td>\n",
              "      <td>4.334723</td>\n",
              "      <td>0.153390</td>\n",
              "      <td>13.547655</td>\n",
              "      <td>0.285488</td>\n",
              "    </tr>\n",
              "    <tr>\n",
              "      <th>min</th>\n",
              "      <td>5.000000</td>\n",
              "      <td>1.000000</td>\n",
              "      <td>20.000000</td>\n",
              "      <td>1.000000</td>\n",
              "      <td>1.000000</td>\n",
              "      <td>0.000000</td>\n",
              "      <td>39.000000</td>\n",
              "      <td>0.000000</td>\n",
              "    </tr>\n",
              "    <tr>\n",
              "      <th>25%</th>\n",
              "      <td>19445.000000</td>\n",
              "      <td>1.000000</td>\n",
              "      <td>29.000000</td>\n",
              "      <td>3.000000</td>\n",
              "      <td>3.000000</td>\n",
              "      <td>0.000000</td>\n",
              "      <td>51.000000</td>\n",
              "      <td>0.000000</td>\n",
              "    </tr>\n",
              "    <tr>\n",
              "      <th>50%</th>\n",
              "      <td>38668.000000</td>\n",
              "      <td>1.000000</td>\n",
              "      <td>33.000000</td>\n",
              "      <td>3.000000</td>\n",
              "      <td>5.000000</td>\n",
              "      <td>0.000000</td>\n",
              "      <td>60.000000</td>\n",
              "      <td>0.000000</td>\n",
              "    </tr>\n",
              "    <tr>\n",
              "      <th>75%</th>\n",
              "      <td>58530.000000</td>\n",
              "      <td>1.000000</td>\n",
              "      <td>39.000000</td>\n",
              "      <td>4.000000</td>\n",
              "      <td>8.000000</td>\n",
              "      <td>0.000000</td>\n",
              "      <td>77.000000</td>\n",
              "      <td>0.000000</td>\n",
              "    </tr>\n",
              "    <tr>\n",
              "      <th>max</th>\n",
              "      <td>78287.000000</td>\n",
              "      <td>10.000000</td>\n",
              "      <td>60.000000</td>\n",
              "      <td>5.000000</td>\n",
              "      <td>34.000000</td>\n",
              "      <td>1.000000</td>\n",
              "      <td>99.000000</td>\n",
              "      <td>1.000000</td>\n",
              "    </tr>\n",
              "  </tbody>\n",
              "</table>\n",
              "</div>\n",
              "      <button class=\"colab-df-convert\" onclick=\"convertToInteractive('df-123193cc-a5bb-44f3-a866-21fff562d1f1')\"\n",
              "              title=\"Convert this dataframe to an interactive table.\"\n",
              "              style=\"display:none;\">\n",
              "        \n",
              "  <svg xmlns=\"http://www.w3.org/2000/svg\" height=\"24px\"viewBox=\"0 0 24 24\"\n",
              "       width=\"24px\">\n",
              "    <path d=\"M0 0h24v24H0V0z\" fill=\"none\"/>\n",
              "    <path d=\"M18.56 5.44l.94 2.06.94-2.06 2.06-.94-2.06-.94-.94-2.06-.94 2.06-2.06.94zm-11 1L8.5 8.5l.94-2.06 2.06-.94-2.06-.94L8.5 2.5l-.94 2.06-2.06.94zm10 10l.94 2.06.94-2.06 2.06-.94-2.06-.94-.94-2.06-.94 2.06-2.06.94z\"/><path d=\"M17.41 7.96l-1.37-1.37c-.4-.4-.92-.59-1.43-.59-.52 0-1.04.2-1.43.59L10.3 9.45l-7.72 7.72c-.78.78-.78 2.05 0 2.83L4 21.41c.39.39.9.59 1.41.59.51 0 1.02-.2 1.41-.59l7.78-7.78 2.81-2.81c.8-.78.8-2.07 0-2.86zM5.41 20L4 18.59l7.72-7.72 1.47 1.35L5.41 20z\"/>\n",
              "  </svg>\n",
              "      </button>\n",
              "      \n",
              "  <style>\n",
              "    .colab-df-container {\n",
              "      display:flex;\n",
              "      flex-wrap:wrap;\n",
              "      gap: 12px;\n",
              "    }\n",
              "\n",
              "    .colab-df-convert {\n",
              "      background-color: #E8F0FE;\n",
              "      border: none;\n",
              "      border-radius: 50%;\n",
              "      cursor: pointer;\n",
              "      display: none;\n",
              "      fill: #1967D2;\n",
              "      height: 32px;\n",
              "      padding: 0 0 0 0;\n",
              "      width: 32px;\n",
              "    }\n",
              "\n",
              "    .colab-df-convert:hover {\n",
              "      background-color: #E2EBFA;\n",
              "      box-shadow: 0px 1px 2px rgba(60, 64, 67, 0.3), 0px 1px 3px 1px rgba(60, 64, 67, 0.15);\n",
              "      fill: #174EA6;\n",
              "    }\n",
              "\n",
              "    [theme=dark] .colab-df-convert {\n",
              "      background-color: #3B4455;\n",
              "      fill: #D2E3FC;\n",
              "    }\n",
              "\n",
              "    [theme=dark] .colab-df-convert:hover {\n",
              "      background-color: #434B5C;\n",
              "      box-shadow: 0px 1px 3px 1px rgba(0, 0, 0, 0.15);\n",
              "      filter: drop-shadow(0px 1px 2px rgba(0, 0, 0, 0.3));\n",
              "      fill: #FFFFFF;\n",
              "    }\n",
              "  </style>\n",
              "\n",
              "      <script>\n",
              "        const buttonEl =\n",
              "          document.querySelector('#df-123193cc-a5bb-44f3-a866-21fff562d1f1 button.colab-df-convert');\n",
              "        buttonEl.style.display =\n",
              "          google.colab.kernel.accessAllowed ? 'block' : 'none';\n",
              "\n",
              "        async function convertToInteractive(key) {\n",
              "          const element = document.querySelector('#df-123193cc-a5bb-44f3-a866-21fff562d1f1');\n",
              "          const dataTable =\n",
              "            await google.colab.kernel.invokeFunction('convertToInteractive',\n",
              "                                                     [key], {});\n",
              "          if (!dataTable) return;\n",
              "\n",
              "          const docLinkHtml = 'Like what you see? Visit the ' +\n",
              "            '<a target=\"_blank\" href=https://colab.research.google.com/notebooks/data_table.ipynb>data table notebook</a>'\n",
              "            + ' to learn more about interactive tables.';\n",
              "          element.innerHTML = '';\n",
              "          dataTable['output_type'] = 'display_data';\n",
              "          await google.colab.output.renderOutput(dataTable, element);\n",
              "          const docLink = document.createElement('div');\n",
              "          docLink.innerHTML = docLinkHtml;\n",
              "          element.appendChild(docLink);\n",
              "        }\n",
              "      </script>\n",
              "    </div>\n",
              "  </div>\n",
              "  "
            ]
          },
          "metadata": {},
          "execution_count": 11
        }
      ],
      "source": [
        "hr.describe()"
      ]
    },
    {
      "cell_type": "markdown",
      "id": "830cdfed",
      "metadata": {
        "id": "830cdfed"
      },
      "source": [
        "# DATA CLEANING"
      ]
    },
    {
      "cell_type": "markdown",
      "id": "8e03b27f",
      "metadata": {
        "id": "8e03b27f"
      },
      "source": [
        "## 1.Handling Missing Values"
      ]
    },
    {
      "cell_type": "code",
      "execution_count": 12,
      "id": "f4852913",
      "metadata": {
        "colab": {
          "base_uri": "https://localhost:8080/"
        },
        "id": "f4852913",
        "outputId": "951b1c0f-448d-4e98-902f-fbb31cb30847"
      },
      "outputs": [
        {
          "output_type": "execute_result",
          "data": {
            "text/plain": [
              "employee_id               0\n",
              "department                0\n",
              "region                    0\n",
              "education               388\n",
              "gender                    0\n",
              "recruitment_channel       0\n",
              "no_of_trainings           0\n",
              "age                       0\n",
              "previous_year_rating    609\n",
              "length_of_service         0\n",
              "awards_won?               0\n",
              "avg_training_score        0\n",
              "is_promoted               0\n",
              "dtype: int64"
            ]
          },
          "metadata": {},
          "execution_count": 12
        }
      ],
      "source": [
        "hr.isnull().sum()"
      ]
    },
    {
      "cell_type": "markdown",
      "id": "f2364047",
      "metadata": {
        "id": "f2364047"
      },
      "source": [
        "- The isnull() command will go through each and every record in the data frame and will give a boolean value which represents 'False' for no null and 'True' for null.\n",
        "- The .sum() will count the number of true values in each feature and will give the sum of the number of Trues which rerpesernt the null values in the data frame."
      ]
    },
    {
      "cell_type": "code",
      "execution_count": 13,
      "id": "44416623",
      "metadata": {
        "scrolled": false,
        "colab": {
          "base_uri": "https://localhost:8080/"
        },
        "id": "44416623",
        "outputId": "04dca7da-08ba-4150-d4d1-b64a3242dc06"
      },
      "outputs": [
        {
          "output_type": "execute_result",
          "data": {
            "text/plain": [
              "388"
            ]
          },
          "metadata": {},
          "execution_count": 13
        }
      ],
      "source": [
        "#Total number of missing values in 'Education' column\n",
        "hr.education.isnull().sum()"
      ]
    },
    {
      "cell_type": "markdown",
      "id": "8f2c0b7b",
      "metadata": {
        "id": "8f2c0b7b"
      },
      "source": [
        "This shows the total number of null values only in the 'Education' column."
      ]
    },
    {
      "cell_type": "code",
      "execution_count": 14,
      "id": "a2adbea1",
      "metadata": {
        "id": "a2adbea1"
      },
      "outputs": [],
      "source": [
        "def fill_missing(df, column, value):\n",
        "    df_copy = df.copy()\n",
        "    df_copy[column].fillna(value=value,inplace=True)\n",
        "    return df_copy\n",
        "\n",
        "hr = fill_missing(hr, \"education\", \"others\")\n",
        "hr = fill_missing(hr, \"previous_year_rating\", 1.0)"
      ]
    },
    {
      "cell_type": "code",
      "execution_count": 15,
      "id": "1048f570",
      "metadata": {
        "colab": {
          "base_uri": "https://localhost:8080/"
        },
        "id": "1048f570",
        "outputId": "0155a573-37a3-4be8-d304-cfa4c3dc39c7"
      },
      "outputs": [
        {
          "output_type": "execute_result",
          "data": {
            "text/plain": [
              "employee_id             0\n",
              "department              0\n",
              "region                  0\n",
              "education               0\n",
              "gender                  0\n",
              "recruitment_channel     0\n",
              "no_of_trainings         0\n",
              "age                     0\n",
              "previous_year_rating    0\n",
              "length_of_service       0\n",
              "awards_won?             0\n",
              "avg_training_score      0\n",
              "is_promoted             0\n",
              "dtype: int64"
            ]
          },
          "metadata": {},
          "execution_count": 15
        }
      ],
      "source": [
        "hr.isnull().sum()"
      ]
    },
    {
      "cell_type": "markdown",
      "id": "4152c267",
      "metadata": {
        "id": "4152c267"
      },
      "source": [
        "Here, we have replaced the null values separately for the 'Education' and 'Previous Year Training' column."
      ]
    },
    {
      "cell_type": "markdown",
      "id": "b3fccfcd",
      "metadata": {
        "id": "b3fccfcd"
      },
      "source": [
        "## 2. Converting 'object' columns into categorical\n"
      ]
    },
    {
      "cell_type": "code",
      "execution_count": 16,
      "id": "54913dee",
      "metadata": {
        "colab": {
          "base_uri": "https://localhost:8080/"
        },
        "id": "54913dee",
        "outputId": "ecd44e74-fe83-40c5-dacc-5dbee3bc075c"
      },
      "outputs": [
        {
          "output_type": "execute_result",
          "data": {
            "text/plain": [
              "Sales & Marketing    2438\n",
              "Operations           1637\n",
              "Technology           1118\n",
              "Procurement          1061\n",
              "Analytics             824\n",
              "HR                    353\n",
              "Finance               348\n",
              "Legal                 160\n",
              "R&D                   150\n",
              "Name: department, dtype: int64"
            ]
          },
          "metadata": {},
          "execution_count": 16
        }
      ],
      "source": [
        "hr.department.value_counts()"
      ]
    },
    {
      "cell_type": "code",
      "execution_count": 17,
      "id": "03001b81",
      "metadata": {
        "colab": {
          "base_uri": "https://localhost:8080/"
        },
        "id": "03001b81",
        "outputId": "34c6edbe-6e17-4235-92f8-b255dc32116b"
      },
      "outputs": [
        {
          "output_type": "execute_result",
          "data": {
            "text/plain": [
              "Bachelor's          5373\n",
              "Master's & above    2208\n",
              "others               388\n",
              "Below Secondary      120\n",
              "Name: education, dtype: int64"
            ]
          },
          "metadata": {},
          "execution_count": 17
        }
      ],
      "source": [
        "hr.education.value_counts()"
      ]
    },
    {
      "cell_type": "code",
      "execution_count": 18,
      "id": "f2748bdd",
      "metadata": {
        "colab": {
          "base_uri": "https://localhost:8080/"
        },
        "id": "f2748bdd",
        "outputId": "e9e4d29d-cad5-49e5-c7ae-c1b23514b2e0"
      },
      "outputs": [
        {
          "output_type": "execute_result",
          "data": {
            "text/plain": [
              "m    5741\n",
              "f    2348\n",
              "Name: gender, dtype: int64"
            ]
          },
          "metadata": {},
          "execution_count": 18
        }
      ],
      "source": [
        "hr.gender.value_counts()"
      ]
    },
    {
      "cell_type": "code",
      "execution_count": 19,
      "id": "7e2b98d3",
      "metadata": {
        "colab": {
          "base_uri": "https://localhost:8080/"
        },
        "id": "7e2b98d3",
        "outputId": "18dce3d1-9791-4124-feaa-76efbcd24af1"
      },
      "outputs": [
        {
          "output_type": "execute_result",
          "data": {
            "text/plain": [
              "other       4488\n",
              "sourcing    3428\n",
              "referred     173\n",
              "Name: recruitment_channel, dtype: int64"
            ]
          },
          "metadata": {},
          "execution_count": 19
        }
      ],
      "source": [
        "hr.recruitment_channel.value_counts()"
      ]
    },
    {
      "cell_type": "code",
      "execution_count": 20,
      "id": "f6ff2731",
      "metadata": {
        "id": "f6ff2731"
      },
      "outputs": [],
      "source": [
        "#Converted 'object' columns into categorical datatype.\n",
        "def convert_to_category(df, column_list):\n",
        "    df_copy = df.copy()\n",
        "    df_copy[column_list] = df_copy[column_list].apply(lambda x: x.astype('category'))\n",
        "    return df_copy\n",
        "\n",
        "hr = convert_to_category(hr, ['department','region','education','gender','recruitment_channel'])"
      ]
    },
    {
      "cell_type": "code",
      "execution_count": 21,
      "id": "a25becb3",
      "metadata": {
        "scrolled": true,
        "colab": {
          "base_uri": "https://localhost:8080/"
        },
        "id": "a25becb3",
        "outputId": "c49272a7-9050-422e-90b2-80b30fba5729"
      },
      "outputs": [
        {
          "output_type": "execute_result",
          "data": {
            "text/plain": [
              "0       False\n",
              "1       False\n",
              "2       False\n",
              "3       False\n",
              "4       False\n",
              "        ...  \n",
              "8084    False\n",
              "8085    False\n",
              "8086    False\n",
              "8087    False\n",
              "8088    False\n",
              "Length: 8089, dtype: bool"
            ]
          },
          "metadata": {},
          "execution_count": 21
        }
      ],
      "source": [
        "hr.duplicated()  #It checks for the duplicates rows and returns as True and False."
      ]
    },
    {
      "cell_type": "code",
      "execution_count": 22,
      "id": "3178377d",
      "metadata": {
        "colab": {
          "base_uri": "https://localhost:8080/"
        },
        "id": "3178377d",
        "outputId": "7c2237ce-2be4-4828-9533-c9eaf36ccf5f"
      },
      "outputs": [
        {
          "output_type": "execute_result",
          "data": {
            "text/plain": [
              "0"
            ]
          },
          "metadata": {},
          "execution_count": 22
        }
      ],
      "source": [
        "hr.duplicated().sum() #Method sum() along with it, will return the total number of the duplicates in the dataset."
      ]
    },
    {
      "cell_type": "code",
      "execution_count": 23,
      "id": "98796624",
      "metadata": {
        "colab": {
          "base_uri": "https://localhost:8080/",
          "height": 0
        },
        "id": "98796624",
        "outputId": "debb2613-5869-485f-e326-e1fec29b40ed"
      },
      "outputs": [
        {
          "output_type": "execute_result",
          "data": {
            "text/plain": [
              "      employee_id         department     region         education gender  \\\n",
              "0           65438  Sales & Marketing   region_7  Master's & above      f   \n",
              "1           65141         Operations  region_22        Bachelor's      m   \n",
              "2            7513  Sales & Marketing  region_19        Bachelor's      m   \n",
              "3            2542  Sales & Marketing  region_23        Bachelor's      m   \n",
              "4           48945         Technology  region_26        Bachelor's      m   \n",
              "...           ...                ...        ...               ...    ...   \n",
              "8084        47386         Technology  region_22        Bachelor's      m   \n",
              "8085        36503         Technology   region_2  Master's & above      f   \n",
              "8086        30267  Sales & Marketing  region_27        Bachelor's      m   \n",
              "8087        38861  Sales & Marketing  region_29  Master's & above      m   \n",
              "8088        49076  Sales & Marketing   region_2        Bachelor's      m   \n",
              "\n",
              "     recruitment_channel  no_of_trainings  age  previous_year_rating  \\\n",
              "0               sourcing                1   35                   5.0   \n",
              "1                  other                1   30                   5.0   \n",
              "2               sourcing                1   34                   3.0   \n",
              "3                  other                2   39                   1.0   \n",
              "4                  other                1   45                   3.0   \n",
              "...                  ...              ...  ...                   ...   \n",
              "8084               other                2   30                   1.0   \n",
              "8085            sourcing                1   41                   5.0   \n",
              "8086               other                3   30                   3.0   \n",
              "8087            sourcing                1   33                   3.0   \n",
              "8088            sourcing                1   40                   2.0   \n",
              "\n",
              "      length_of_service  awards_won?  avg_training_score  is_promoted  \n",
              "0                     8            0                  49            0  \n",
              "1                     4            0                  60            0  \n",
              "2                     7            0                  50            0  \n",
              "3                    10            0                  50            0  \n",
              "4                     2            0                  73            0  \n",
              "...                 ...          ...                 ...          ...  \n",
              "8084                  2            0                  83            0  \n",
              "8085                 11            0                  75            0  \n",
              "8086                  2            0                  52            1  \n",
              "8087                  9            0                  48            0  \n",
              "8088                 15            0                  49            0  \n",
              "\n",
              "[8089 rows x 13 columns]"
            ],
            "text/html": [
              "\n",
              "  <div id=\"df-88ace9c5-17e9-49a8-8486-a0306e93eeb3\">\n",
              "    <div class=\"colab-df-container\">\n",
              "      <div>\n",
              "<style scoped>\n",
              "    .dataframe tbody tr th:only-of-type {\n",
              "        vertical-align: middle;\n",
              "    }\n",
              "\n",
              "    .dataframe tbody tr th {\n",
              "        vertical-align: top;\n",
              "    }\n",
              "\n",
              "    .dataframe thead th {\n",
              "        text-align: right;\n",
              "    }\n",
              "</style>\n",
              "<table border=\"1\" class=\"dataframe\">\n",
              "  <thead>\n",
              "    <tr style=\"text-align: right;\">\n",
              "      <th></th>\n",
              "      <th>employee_id</th>\n",
              "      <th>department</th>\n",
              "      <th>region</th>\n",
              "      <th>education</th>\n",
              "      <th>gender</th>\n",
              "      <th>recruitment_channel</th>\n",
              "      <th>no_of_trainings</th>\n",
              "      <th>age</th>\n",
              "      <th>previous_year_rating</th>\n",
              "      <th>length_of_service</th>\n",
              "      <th>awards_won?</th>\n",
              "      <th>avg_training_score</th>\n",
              "      <th>is_promoted</th>\n",
              "    </tr>\n",
              "  </thead>\n",
              "  <tbody>\n",
              "    <tr>\n",
              "      <th>0</th>\n",
              "      <td>65438</td>\n",
              "      <td>Sales &amp; Marketing</td>\n",
              "      <td>region_7</td>\n",
              "      <td>Master's &amp; above</td>\n",
              "      <td>f</td>\n",
              "      <td>sourcing</td>\n",
              "      <td>1</td>\n",
              "      <td>35</td>\n",
              "      <td>5.0</td>\n",
              "      <td>8</td>\n",
              "      <td>0</td>\n",
              "      <td>49</td>\n",
              "      <td>0</td>\n",
              "    </tr>\n",
              "    <tr>\n",
              "      <th>1</th>\n",
              "      <td>65141</td>\n",
              "      <td>Operations</td>\n",
              "      <td>region_22</td>\n",
              "      <td>Bachelor's</td>\n",
              "      <td>m</td>\n",
              "      <td>other</td>\n",
              "      <td>1</td>\n",
              "      <td>30</td>\n",
              "      <td>5.0</td>\n",
              "      <td>4</td>\n",
              "      <td>0</td>\n",
              "      <td>60</td>\n",
              "      <td>0</td>\n",
              "    </tr>\n",
              "    <tr>\n",
              "      <th>2</th>\n",
              "      <td>7513</td>\n",
              "      <td>Sales &amp; Marketing</td>\n",
              "      <td>region_19</td>\n",
              "      <td>Bachelor's</td>\n",
              "      <td>m</td>\n",
              "      <td>sourcing</td>\n",
              "      <td>1</td>\n",
              "      <td>34</td>\n",
              "      <td>3.0</td>\n",
              "      <td>7</td>\n",
              "      <td>0</td>\n",
              "      <td>50</td>\n",
              "      <td>0</td>\n",
              "    </tr>\n",
              "    <tr>\n",
              "      <th>3</th>\n",
              "      <td>2542</td>\n",
              "      <td>Sales &amp; Marketing</td>\n",
              "      <td>region_23</td>\n",
              "      <td>Bachelor's</td>\n",
              "      <td>m</td>\n",
              "      <td>other</td>\n",
              "      <td>2</td>\n",
              "      <td>39</td>\n",
              "      <td>1.0</td>\n",
              "      <td>10</td>\n",
              "      <td>0</td>\n",
              "      <td>50</td>\n",
              "      <td>0</td>\n",
              "    </tr>\n",
              "    <tr>\n",
              "      <th>4</th>\n",
              "      <td>48945</td>\n",
              "      <td>Technology</td>\n",
              "      <td>region_26</td>\n",
              "      <td>Bachelor's</td>\n",
              "      <td>m</td>\n",
              "      <td>other</td>\n",
              "      <td>1</td>\n",
              "      <td>45</td>\n",
              "      <td>3.0</td>\n",
              "      <td>2</td>\n",
              "      <td>0</td>\n",
              "      <td>73</td>\n",
              "      <td>0</td>\n",
              "    </tr>\n",
              "    <tr>\n",
              "      <th>...</th>\n",
              "      <td>...</td>\n",
              "      <td>...</td>\n",
              "      <td>...</td>\n",
              "      <td>...</td>\n",
              "      <td>...</td>\n",
              "      <td>...</td>\n",
              "      <td>...</td>\n",
              "      <td>...</td>\n",
              "      <td>...</td>\n",
              "      <td>...</td>\n",
              "      <td>...</td>\n",
              "      <td>...</td>\n",
              "      <td>...</td>\n",
              "    </tr>\n",
              "    <tr>\n",
              "      <th>8084</th>\n",
              "      <td>47386</td>\n",
              "      <td>Technology</td>\n",
              "      <td>region_22</td>\n",
              "      <td>Bachelor's</td>\n",
              "      <td>m</td>\n",
              "      <td>other</td>\n",
              "      <td>2</td>\n",
              "      <td>30</td>\n",
              "      <td>1.0</td>\n",
              "      <td>2</td>\n",
              "      <td>0</td>\n",
              "      <td>83</td>\n",
              "      <td>0</td>\n",
              "    </tr>\n",
              "    <tr>\n",
              "      <th>8085</th>\n",
              "      <td>36503</td>\n",
              "      <td>Technology</td>\n",
              "      <td>region_2</td>\n",
              "      <td>Master's &amp; above</td>\n",
              "      <td>f</td>\n",
              "      <td>sourcing</td>\n",
              "      <td>1</td>\n",
              "      <td>41</td>\n",
              "      <td>5.0</td>\n",
              "      <td>11</td>\n",
              "      <td>0</td>\n",
              "      <td>75</td>\n",
              "      <td>0</td>\n",
              "    </tr>\n",
              "    <tr>\n",
              "      <th>8086</th>\n",
              "      <td>30267</td>\n",
              "      <td>Sales &amp; Marketing</td>\n",
              "      <td>region_27</td>\n",
              "      <td>Bachelor's</td>\n",
              "      <td>m</td>\n",
              "      <td>other</td>\n",
              "      <td>3</td>\n",
              "      <td>30</td>\n",
              "      <td>3.0</td>\n",
              "      <td>2</td>\n",
              "      <td>0</td>\n",
              "      <td>52</td>\n",
              "      <td>1</td>\n",
              "    </tr>\n",
              "    <tr>\n",
              "      <th>8087</th>\n",
              "      <td>38861</td>\n",
              "      <td>Sales &amp; Marketing</td>\n",
              "      <td>region_29</td>\n",
              "      <td>Master's &amp; above</td>\n",
              "      <td>m</td>\n",
              "      <td>sourcing</td>\n",
              "      <td>1</td>\n",
              "      <td>33</td>\n",
              "      <td>3.0</td>\n",
              "      <td>9</td>\n",
              "      <td>0</td>\n",
              "      <td>48</td>\n",
              "      <td>0</td>\n",
              "    </tr>\n",
              "    <tr>\n",
              "      <th>8088</th>\n",
              "      <td>49076</td>\n",
              "      <td>Sales &amp; Marketing</td>\n",
              "      <td>region_2</td>\n",
              "      <td>Bachelor's</td>\n",
              "      <td>m</td>\n",
              "      <td>sourcing</td>\n",
              "      <td>1</td>\n",
              "      <td>40</td>\n",
              "      <td>2.0</td>\n",
              "      <td>15</td>\n",
              "      <td>0</td>\n",
              "      <td>49</td>\n",
              "      <td>0</td>\n",
              "    </tr>\n",
              "  </tbody>\n",
              "</table>\n",
              "<p>8089 rows × 13 columns</p>\n",
              "</div>\n",
              "      <button class=\"colab-df-convert\" onclick=\"convertToInteractive('df-88ace9c5-17e9-49a8-8486-a0306e93eeb3')\"\n",
              "              title=\"Convert this dataframe to an interactive table.\"\n",
              "              style=\"display:none;\">\n",
              "        \n",
              "  <svg xmlns=\"http://www.w3.org/2000/svg\" height=\"24px\"viewBox=\"0 0 24 24\"\n",
              "       width=\"24px\">\n",
              "    <path d=\"M0 0h24v24H0V0z\" fill=\"none\"/>\n",
              "    <path d=\"M18.56 5.44l.94 2.06.94-2.06 2.06-.94-2.06-.94-.94-2.06-.94 2.06-2.06.94zm-11 1L8.5 8.5l.94-2.06 2.06-.94-2.06-.94L8.5 2.5l-.94 2.06-2.06.94zm10 10l.94 2.06.94-2.06 2.06-.94-2.06-.94-.94-2.06-.94 2.06-2.06.94z\"/><path d=\"M17.41 7.96l-1.37-1.37c-.4-.4-.92-.59-1.43-.59-.52 0-1.04.2-1.43.59L10.3 9.45l-7.72 7.72c-.78.78-.78 2.05 0 2.83L4 21.41c.39.39.9.59 1.41.59.51 0 1.02-.2 1.41-.59l7.78-7.78 2.81-2.81c.8-.78.8-2.07 0-2.86zM5.41 20L4 18.59l7.72-7.72 1.47 1.35L5.41 20z\"/>\n",
              "  </svg>\n",
              "      </button>\n",
              "      \n",
              "  <style>\n",
              "    .colab-df-container {\n",
              "      display:flex;\n",
              "      flex-wrap:wrap;\n",
              "      gap: 12px;\n",
              "    }\n",
              "\n",
              "    .colab-df-convert {\n",
              "      background-color: #E8F0FE;\n",
              "      border: none;\n",
              "      border-radius: 50%;\n",
              "      cursor: pointer;\n",
              "      display: none;\n",
              "      fill: #1967D2;\n",
              "      height: 32px;\n",
              "      padding: 0 0 0 0;\n",
              "      width: 32px;\n",
              "    }\n",
              "\n",
              "    .colab-df-convert:hover {\n",
              "      background-color: #E2EBFA;\n",
              "      box-shadow: 0px 1px 2px rgba(60, 64, 67, 0.3), 0px 1px 3px 1px rgba(60, 64, 67, 0.15);\n",
              "      fill: #174EA6;\n",
              "    }\n",
              "\n",
              "    [theme=dark] .colab-df-convert {\n",
              "      background-color: #3B4455;\n",
              "      fill: #D2E3FC;\n",
              "    }\n",
              "\n",
              "    [theme=dark] .colab-df-convert:hover {\n",
              "      background-color: #434B5C;\n",
              "      box-shadow: 0px 1px 3px 1px rgba(0, 0, 0, 0.15);\n",
              "      filter: drop-shadow(0px 1px 2px rgba(0, 0, 0, 0.3));\n",
              "      fill: #FFFFFF;\n",
              "    }\n",
              "  </style>\n",
              "\n",
              "      <script>\n",
              "        const buttonEl =\n",
              "          document.querySelector('#df-88ace9c5-17e9-49a8-8486-a0306e93eeb3 button.colab-df-convert');\n",
              "        buttonEl.style.display =\n",
              "          google.colab.kernel.accessAllowed ? 'block' : 'none';\n",
              "\n",
              "        async function convertToInteractive(key) {\n",
              "          const element = document.querySelector('#df-88ace9c5-17e9-49a8-8486-a0306e93eeb3');\n",
              "          const dataTable =\n",
              "            await google.colab.kernel.invokeFunction('convertToInteractive',\n",
              "                                                     [key], {});\n",
              "          if (!dataTable) return;\n",
              "\n",
              "          const docLinkHtml = 'Like what you see? Visit the ' +\n",
              "            '<a target=\"_blank\" href=https://colab.research.google.com/notebooks/data_table.ipynb>data table notebook</a>'\n",
              "            + ' to learn more about interactive tables.';\n",
              "          element.innerHTML = '';\n",
              "          dataTable['output_type'] = 'display_data';\n",
              "          await google.colab.output.renderOutput(dataTable, element);\n",
              "          const docLink = document.createElement('div');\n",
              "          docLink.innerHTML = docLinkHtml;\n",
              "          element.appendChild(docLink);\n",
              "        }\n",
              "      </script>\n",
              "    </div>\n",
              "  </div>\n",
              "  "
            ]
          },
          "metadata": {},
          "execution_count": 23
        }
      ],
      "source": [
        "hr.drop_duplicates() #Removing the entire duplicates rows values."
      ]
    },
    {
      "cell_type": "markdown",
      "id": "89c2fc6a",
      "metadata": {
        "id": "89c2fc6a"
      },
      "source": [
        "# UNIVARIATE ANANLYSIS"
      ]
    },
    {
      "cell_type": "markdown",
      "id": "962eed14",
      "metadata": {
        "id": "962eed14"
      },
      "source": [
        "**The term univariate analysis refers to the analysis of one variable.'Uni' means one, hence, *Univariate analysis* refers to the analysis of one variable.**"
      ]
    },
    {
      "cell_type": "code",
      "execution_count": 24,
      "id": "1a0db6f7",
      "metadata": {
        "id": "1a0db6f7"
      },
      "outputs": [],
      "source": [
        "# Remove column 'employee_id' from the dataframe\n",
        "hr.drop(columns='employee_id',inplace=True)  "
      ]
    },
    {
      "cell_type": "markdown",
      "id": "a7b53e04",
      "metadata": {
        "id": "a7b53e04"
      },
      "source": [
        "#### DISTRIBUTION PLOT"
      ]
    },
    {
      "cell_type": "code",
      "execution_count": 25,
      "id": "143cc39c",
      "metadata": {
        "scrolled": false,
        "colab": {
          "base_uri": "https://localhost:8080/",
          "height": 0
        },
        "id": "143cc39c",
        "outputId": "1a7e73bc-550b-4ee1-fa25-fffcd49b35db"
      },
      "outputs": [
        {
          "output_type": "display_data",
          "data": {
            "text/plain": [
              "<Figure size 864x576 with 1 Axes>"
            ],
            "image/png": "[encoded data removed]"
          },
          "metadata": {
            "needs_background": "light"
          }
        }
      ],
      "source": [
        "plt.figure(figsize=(12,8))\n",
        "sns.distplot(hr['no_of_trainings'])\n",
        "plt.show()"
      ]
    },
    {
      "cell_type": "markdown",
      "id": "320500c2",
      "metadata": {
        "id": "320500c2"
      },
      "source": [
        "We can see that the data is right skewed.\n",
        "Most of the employees have received 2 ratings and 3 ratings, so we can see the peak is at two.\n"
      ]
    },
    {
      "cell_type": "markdown",
      "id": "b347942b",
      "metadata": {
        "id": "b347942b"
      },
      "source": [
        "#### HISTOGRAM"
      ]
    },
    {
      "cell_type": "code",
      "execution_count": 26,
      "id": "7e231d50",
      "metadata": {
        "scrolled": false,
        "colab": {
          "base_uri": "https://localhost:8080/",
          "height": 0
        },
        "id": "7e231d50",
        "outputId": "fc766c6d-91c3-432a-a669-00198c49dd9f"
      },
      "outputs": [
        {
          "output_type": "display_data",
          "data": {
            "text/plain": [
              "<Figure size 1080x576 with 9 Axes>"
            ],
            "image/png": "[encoded data removed]"
          },
          "metadata": {
            "needs_background": "light"
          }
        }
      ],
      "source": [
        "# Histograms of all numerical columns\n",
        "hr.hist(bins=20, figsize=(15,8))\n",
        "plt.show()"
      ]
    },
    {
      "cell_type": "markdown",
      "id": "0b9d7de1",
      "metadata": {
        "id": "0b9d7de1"
      },
      "source": [
        "#### BAR PLOT"
      ]
    },
    {
      "cell_type": "code",
      "execution_count": 27,
      "id": "99e786b7",
      "metadata": {
        "scrolled": true,
        "colab": {
          "base_uri": "https://localhost:8080/"
        },
        "id": "99e786b7",
        "outputId": "71cb781e-af8e-4eba-df8a-c3d19f215405"
      },
      "outputs": [
        {
          "output_type": "execute_result",
          "data": {
            "text/plain": [
              "Bachelor's          5373\n",
              "Master's & above    2208\n",
              "others               388\n",
              "Below Secondary      120\n",
              "Name: education, dtype: int64"
            ]
          },
          "metadata": {},
          "execution_count": 27
        }
      ],
      "source": [
        "hr.education.value_counts()"
      ]
    },
    {
      "cell_type": "code",
      "execution_count": 28,
      "id": "a34c4886",
      "metadata": {
        "colab": {
          "base_uri": "https://localhost:8080/"
        },
        "id": "a34c4886",
        "outputId": "c31795b9-31e9-4f06-9428-85460c9c6770"
      },
      "outputs": [
        {
          "output_type": "execute_result",
          "data": {
            "text/plain": [
              "Bachelor's          0.664235\n",
              "Master's & above    0.272963\n",
              "others              0.047966\n",
              "Below Secondary     0.014835\n",
              "Name: education, dtype: float64"
            ]
          },
          "metadata": {},
          "execution_count": 28
        }
      ],
      "source": [
        "hr.education.value_counts(normalize=True)"
      ]
    },
    {
      "cell_type": "code",
      "execution_count": 29,
      "id": "3c7f812c",
      "metadata": {
        "scrolled": true,
        "colab": {
          "base_uri": "https://localhost:8080/",
          "height": 0
        },
        "id": "3c7f812c",
        "outputId": "a4aace1d-f8c2-446d-e09c-e1c3a4a6417f"
      },
      "outputs": [
        {
          "output_type": "display_data",
          "data": {
            "text/plain": [
              "<Figure size 432x288 with 1 Axes>"
            ],
            "image/png": "[encoded data removed]"
          },
          "metadata": {
            "needs_background": "light"
          }
        }
      ],
      "source": [
        "hr.education.value_counts(normalize=True).plot.barh()\n",
        "plt.show()"
      ]
    },
    {
      "cell_type": "code",
      "execution_count": 30,
      "id": "e8d936ee",
      "metadata": {
        "colab": {
          "base_uri": "https://localhost:8080/",
          "height": 0
        },
        "id": "e8d936ee",
        "outputId": "f3324512-eb2b-49a7-ab46-bc6f3974123f"
      },
      "outputs": [
        {
          "output_type": "display_data",
          "data": {
            "text/plain": [
              "<Figure size 432x288 with 1 Axes>"
            ],
            "image/png": "[encoded data removed]"
          },
          "metadata": {
            "needs_background": "light"
          }
        }
      ],
      "source": [
        "hr.hist(column='previous_year_rating', grid=False, edgecolor='red') \n",
        "plt.show()\n",
        "#hist plot used to summarize discrete or continuous data that are measured on an interval scale."
      ]
    },
    {
      "cell_type": "code",
      "execution_count": 31,
      "id": "0f36b0cf",
      "metadata": {
        "colab": {
          "base_uri": "https://localhost:8080/",
          "height": 0
        },
        "id": "0f36b0cf",
        "outputId": "e5f7687c-0487-4da1-dc84-72fea39a40f1"
      },
      "outputs": [
        {
          "output_type": "display_data",
          "data": {
            "text/plain": [
              "<Figure size 432x288 with 1 Axes>"
            ],
            "image/png": "[encoded data removed]"
          },
          "metadata": {
            "needs_background": "light"
          }
        }
      ],
      "source": [
        "plt.scatter(hr.index,hr['avg_training_score'],color='pink')\n",
        "plt.show()"
      ]
    },
    {
      "cell_type": "markdown",
      "id": "695a5de0",
      "metadata": {
        "id": "695a5de0"
      },
      "source": [
        "#### PIE PLOT"
      ]
    },
    {
      "cell_type": "code",
      "execution_count": 32,
      "id": "f1568372",
      "metadata": {
        "colab": {
          "base_uri": "https://localhost:8080/"
        },
        "id": "f1568372",
        "outputId": "eeed690e-0531-49ce-a111-0ba9ff82eb47"
      },
      "outputs": [
        {
          "output_type": "execute_result",
          "data": {
            "text/plain": [
              "Sales & Marketing    2438\n",
              "Operations           1637\n",
              "Technology           1118\n",
              "Procurement          1061\n",
              "Analytics             824\n",
              "HR                    353\n",
              "Finance               348\n",
              "Legal                 160\n",
              "R&D                   150\n",
              "Name: department, dtype: int64"
            ]
          },
          "metadata": {},
          "execution_count": 32
        }
      ],
      "source": [
        "hr.department.value_counts()"
      ]
    },
    {
      "cell_type": "code",
      "execution_count": 33,
      "id": "d6b47f68",
      "metadata": {
        "scrolled": false,
        "colab": {
          "base_uri": "https://localhost:8080/",
          "height": 0
        },
        "id": "d6b47f68",
        "outputId": "40778d7c-3777-415b-f222-8aea6fc74748"
      },
      "outputs": [
        {
          "output_type": "display_data",
          "data": {
            "text/plain": [
              "<Figure size 432x288 with 1 Axes>"
            ],
            "image/png": "[encoded data removed]"
          },
          "metadata": {}
        }
      ],
      "source": [
        "hr.department.value_counts().plot.pie()\n",
        "plt.show()"
      ]
    },
    {
      "cell_type": "markdown",
      "id": "e894de55",
      "metadata": {
        "id": "e894de55"
      },
      "source": [
        "#### KERNEL DENSITY PLOT"
      ]
    },
    {
      "cell_type": "code",
      "execution_count": 34,
      "id": "46f879d6",
      "metadata": {
        "scrolled": true,
        "colab": {
          "base_uri": "https://localhost:8080/",
          "height": 0
        },
        "id": "46f879d6",
        "outputId": "ca1f7c16-0998-449c-d3a8-276b3db6ed22"
      },
      "outputs": [
        {
          "output_type": "display_data",
          "data": {
            "text/plain": [
              "<Figure size 432x288 with 1 Axes>"
            ],
            "image/png": "[encoded data removed]"
          },
          "metadata": {
            "needs_background": "light"
          }
        }
      ],
      "source": [
        "hr.education.value_counts().plot.kde()\n",
        "plt.show()"
      ]
    },
    {
      "cell_type": "markdown",
      "id": "0f9dd6b5",
      "metadata": {
        "id": "0f9dd6b5"
      },
      "source": [
        "#### STRIP PLOT"
      ]
    },
    {
      "cell_type": "code",
      "execution_count": 35,
      "id": "d6c210c5",
      "metadata": {
        "scrolled": true,
        "colab": {
          "base_uri": "https://localhost:8080/",
          "height": 0
        },
        "id": "d6c210c5",
        "outputId": "63a1345e-91f9-4e20-cf9a-4e4576094680"
      },
      "outputs": [
        {
          "output_type": "display_data",
          "data": {
            "text/plain": [
              "<Figure size 432x288 with 1 Axes>"
            ],
            "image/png": "[encoded data removed]"
          },
          "metadata": {
            "needs_background": "light"
          }
        }
      ],
      "source": [
        "sns.stripplot(x=hr[\"age\"]);"
      ]
    },
    {
      "cell_type": "markdown",
      "id": "8ddeb2e5",
      "metadata": {
        "id": "8ddeb2e5"
      },
      "source": [
        "#### BOX PLOT"
      ]
    },
    {
      "cell_type": "code",
      "execution_count": 36,
      "id": "9079a5cd",
      "metadata": {
        "scrolled": false,
        "colab": {
          "base_uri": "https://localhost:8080/",
          "height": 0
        },
        "id": "9079a5cd",
        "outputId": "e80498ff-3004-48b7-bf03-15406af68fc9"
      },
      "outputs": [
        {
          "output_type": "execute_result",
          "data": {
            "text/plain": [
              "<matplotlib.axes._subplots.AxesSubplot at 0x7f01b51848d0>"
            ]
          },
          "metadata": {},
          "execution_count": 36
        },
        {
          "output_type": "display_data",
          "data": {
            "text/plain": [
              "<Figure size 432x288 with 1 Axes>"
            ],
            "image/png": "[encoded data removed]"
          },
          "metadata": {
            "needs_background": "light"
          }
        }
      ],
      "source": [
        "hr.boxplot(column=['age'], grid=False, color='black')"
      ]
    },
    {
      "cell_type": "code",
      "execution_count": 37,
      "id": "3723ca05",
      "metadata": {
        "scrolled": false,
        "colab": {
          "base_uri": "https://localhost:8080/",
          "height": 0
        },
        "id": "3723ca05",
        "outputId": "745d4f64-25fc-4a1c-ef2a-72f9ebc64fa4"
      },
      "outputs": [
        {
          "output_type": "display_data",
          "data": {
            "text/plain": [
              "<Figure size 432x288 with 1 Axes>"
            ],
            "image/png": "[encoded data removed]"
          },
          "metadata": {
            "needs_background": "light"
          }
        }
      ],
      "source": [
        "sns.histplot(x='previous_year_rating', data=hr, kde=True)\n",
        "plt.show()                                               #hist+Kdeplot"
      ]
    },
    {
      "cell_type": "markdown",
      "id": "b30ac4e9",
      "metadata": {
        "id": "b30ac4e9"
      },
      "source": [
        "#### JOINT PLOT"
      ]
    },
    {
      "cell_type": "code",
      "execution_count": 38,
      "id": "b58dcbc5",
      "metadata": {
        "scrolled": true,
        "colab": {
          "base_uri": "https://localhost:8080/",
          "height": 441
        },
        "id": "b58dcbc5",
        "outputId": "392c0e46-a397-4cbd-b93c-ce28cd6fd2a3"
      },
      "outputs": [
        {
          "output_type": "display_data",
          "data": {
            "text/plain": [
              "<Figure size 432x432 with 3 Axes>"
            ],
            "image/png": "[encoded data removed]"
          },
          "metadata": {
            "needs_background": "light"
          }
        }
      ],
      "source": [
        "sns.jointplot(y='avg_training_score',x='age',data=hr,color='y')\n",
        "plt.show()"
      ]
    },
    {
      "cell_type": "markdown",
      "id": "85ea7d17",
      "metadata": {
        "id": "85ea7d17"
      },
      "source": [
        "From, the above pie charts for Education, Gender, and Recruitment Channel, the inferences are :\n",
        "- Very few employees are working after their secondary education.\n",
        "- Females are less in number as compared to the males.\n",
        "- The Recruitment Channel, says that the referred employees are very less, i.e., most of the employees are recruited either by sourcing, or some other recruitment agencies, sources etc."
      ]
    },
    {
      "cell_type": "code",
      "execution_count": 103,
      "id": "d6062345",
      "metadata": {
        "colab": {
          "base_uri": "https://localhost:8080/",
          "height": 694
        },
        "id": "d6062345",
        "outputId": "aa77b8bd-08d7-4ca9-8dd9-400259480554"
      },
      "outputs": [
        {
          "output_type": "error",
          "ename": "ValueError",
          "evalue": "ignored",
          "traceback": [
            "\u001b[0;31m---------------------------------------------------------------------------\u001b[0m",
            "\u001b[0;31mValueError\u001b[0m                                Traceback (most recent call last)",
            "\u001b[0;32m<ipython-input-103-c4478ce2a760>\u001b[0m in \u001b[0;36m<module>\u001b[0;34m\u001b[0m\n\u001b[1;32m      9\u001b[0m \u001b[0mexplode\u001b[0m \u001b[0;34m=\u001b[0m \u001b[0;34m[\u001b[0m\u001b[0;36m0\u001b[0m\u001b[0;34m,\u001b[0m \u001b[0;36m0\u001b[0m\u001b[0;34m]\u001b[0m\u001b[0;34m\u001b[0m\u001b[0;34m\u001b[0m\u001b[0m\n\u001b[1;32m     10\u001b[0m \u001b[0;34m\u001b[0m\u001b[0m\n\u001b[0;32m---> 11\u001b[0;31m \u001b[0mplt\u001b[0m\u001b[0;34m.\u001b[0m\u001b[0mpie\u001b[0m\u001b[0;34m(\u001b[0m\u001b[0msizes\u001b[0m\u001b[0;34m,\u001b[0m \u001b[0mlabels\u001b[0m \u001b[0;34m=\u001b[0m \u001b[0mlabels\u001b[0m\u001b[0;34m,\u001b[0m \u001b[0mcolors\u001b[0m \u001b[0;34m=\u001b[0m \u001b[0mcolors\u001b[0m\u001b[0;34m,\u001b[0m \u001b[0mexplode\u001b[0m \u001b[0;34m=\u001b[0m \u001b[0mexplode\u001b[0m\u001b[0;34m,\u001b[0m \u001b[0mshadow\u001b[0m \u001b[0;34m=\u001b[0m \u001b[0;32mTrue\u001b[0m\u001b[0;34m,\u001b[0m \u001b[0mstartangle\u001b[0m \u001b[0;34m=\u001b[0m \u001b[0;36m90\u001b[0m\u001b[0;34m)\u001b[0m\u001b[0;34m\u001b[0m\u001b[0;34m\u001b[0m\u001b[0m\n\u001b[0m\u001b[1;32m     12\u001b[0m \u001b[0mplt\u001b[0m\u001b[0;34m.\u001b[0m\u001b[0mtitle\u001b[0m\u001b[0;34m(\u001b[0m\u001b[0;34m'Education'\u001b[0m\u001b[0;34m,\u001b[0m \u001b[0mfontsize\u001b[0m \u001b[0;34m=\u001b[0m \u001b[0;36m20\u001b[0m\u001b[0;34m)\u001b[0m\u001b[0;34m\u001b[0m\u001b[0;34m\u001b[0m\u001b[0m\n\u001b[1;32m     13\u001b[0m \u001b[0;34m\u001b[0m\u001b[0m\n",
            "\u001b[0;32m/usr/local/lib/python3.7/dist-packages/matplotlib/pyplot.py\u001b[0m in \u001b[0;36mpie\u001b[0;34m(x, explode, labels, colors, autopct, pctdistance, shadow, labeldistance, startangle, radius, counterclock, wedgeprops, textprops, center, frame, rotatelabels, data)\u001b[0m\n\u001b[1;32m   2753\u001b[0m         \u001b[0mwedgeprops\u001b[0m\u001b[0;34m=\u001b[0m\u001b[0mwedgeprops\u001b[0m\u001b[0;34m,\u001b[0m \u001b[0mtextprops\u001b[0m\u001b[0;34m=\u001b[0m\u001b[0mtextprops\u001b[0m\u001b[0;34m,\u001b[0m \u001b[0mcenter\u001b[0m\u001b[0;34m=\u001b[0m\u001b[0mcenter\u001b[0m\u001b[0;34m,\u001b[0m\u001b[0;34m\u001b[0m\u001b[0;34m\u001b[0m\u001b[0m\n\u001b[1;32m   2754\u001b[0m         frame=frame, rotatelabels=rotatelabels, **({\"data\": data} if\n\u001b[0;32m-> 2755\u001b[0;31m         data is not None else {}))\n\u001b[0m\u001b[1;32m   2756\u001b[0m \u001b[0;34m\u001b[0m\u001b[0m\n\u001b[1;32m   2757\u001b[0m \u001b[0;34m\u001b[0m\u001b[0m\n",
            "\u001b[0;32m/usr/local/lib/python3.7/dist-packages/matplotlib/__init__.py\u001b[0m in \u001b[0;36minner\u001b[0;34m(ax, data, *args, **kwargs)\u001b[0m\n\u001b[1;32m   1563\u001b[0m     \u001b[0;32mdef\u001b[0m \u001b[0minner\u001b[0m\u001b[0;34m(\u001b[0m\u001b[0max\u001b[0m\u001b[0;34m,\u001b[0m \u001b[0;34m*\u001b[0m\u001b[0margs\u001b[0m\u001b[0;34m,\u001b[0m \u001b[0mdata\u001b[0m\u001b[0;34m=\u001b[0m\u001b[0;32mNone\u001b[0m\u001b[0;34m,\u001b[0m \u001b[0;34m**\u001b[0m\u001b[0mkwargs\u001b[0m\u001b[0;34m)\u001b[0m\u001b[0;34m:\u001b[0m\u001b[0;34m\u001b[0m\u001b[0;34m\u001b[0m\u001b[0m\n\u001b[1;32m   1564\u001b[0m         \u001b[0;32mif\u001b[0m \u001b[0mdata\u001b[0m \u001b[0;32mis\u001b[0m \u001b[0;32mNone\u001b[0m\u001b[0;34m:\u001b[0m\u001b[0;34m\u001b[0m\u001b[0;34m\u001b[0m\u001b[0m\n\u001b[0;32m-> 1565\u001b[0;31m             \u001b[0;32mreturn\u001b[0m \u001b[0mfunc\u001b[0m\u001b[0;34m(\u001b[0m\u001b[0max\u001b[0m\u001b[0;34m,\u001b[0m \u001b[0;34m*\u001b[0m\u001b[0mmap\u001b[0m\u001b[0;34m(\u001b[0m\u001b[0msanitize_sequence\u001b[0m\u001b[0;34m,\u001b[0m \u001b[0margs\u001b[0m\u001b[0;34m)\u001b[0m\u001b[0;34m,\u001b[0m \u001b[0;34m**\u001b[0m\u001b[0mkwargs\u001b[0m\u001b[0;34m)\u001b[0m\u001b[0;34m\u001b[0m\u001b[0;34m\u001b[0m\u001b[0m\n\u001b[0m\u001b[1;32m   1566\u001b[0m \u001b[0;34m\u001b[0m\u001b[0m\n\u001b[1;32m   1567\u001b[0m         \u001b[0mbound\u001b[0m \u001b[0;34m=\u001b[0m \u001b[0mnew_sig\u001b[0m\u001b[0;34m.\u001b[0m\u001b[0mbind\u001b[0m\u001b[0;34m(\u001b[0m\u001b[0max\u001b[0m\u001b[0;34m,\u001b[0m \u001b[0;34m*\u001b[0m\u001b[0margs\u001b[0m\u001b[0;34m,\u001b[0m \u001b[0;34m**\u001b[0m\u001b[0mkwargs\u001b[0m\u001b[0;34m)\u001b[0m\u001b[0;34m\u001b[0m\u001b[0;34m\u001b[0m\u001b[0m\n",
            "\u001b[0;32m/usr/local/lib/python3.7/dist-packages/matplotlib/axes/_axes.py\u001b[0m in \u001b[0;36mpie\u001b[0;34m(self, x, explode, labels, colors, autopct, pctdistance, shadow, labeldistance, startangle, radius, counterclock, wedgeprops, textprops, center, frame, rotatelabels)\u001b[0m\n\u001b[1;32m   2929\u001b[0m             \u001b[0;32mraise\u001b[0m \u001b[0mValueError\u001b[0m\u001b[0;34m(\u001b[0m\u001b[0;34m\"'label' must be of length 'x'\"\u001b[0m\u001b[0;34m)\u001b[0m\u001b[0;34m\u001b[0m\u001b[0;34m\u001b[0m\u001b[0m\n\u001b[1;32m   2930\u001b[0m         \u001b[0;32mif\u001b[0m \u001b[0mlen\u001b[0m\u001b[0;34m(\u001b[0m\u001b[0mx\u001b[0m\u001b[0;34m)\u001b[0m \u001b[0;34m!=\u001b[0m \u001b[0mlen\u001b[0m\u001b[0;34m(\u001b[0m\u001b[0mexplode\u001b[0m\u001b[0;34m)\u001b[0m\u001b[0;34m:\u001b[0m\u001b[0;34m\u001b[0m\u001b[0;34m\u001b[0m\u001b[0m\n\u001b[0;32m-> 2931\u001b[0;31m             \u001b[0;32mraise\u001b[0m \u001b[0mValueError\u001b[0m\u001b[0;34m(\u001b[0m\u001b[0;34m\"'explode' must be of length 'x'\"\u001b[0m\u001b[0;34m)\u001b[0m\u001b[0;34m\u001b[0m\u001b[0;34m\u001b[0m\u001b[0m\n\u001b[0m\u001b[1;32m   2932\u001b[0m         \u001b[0;32mif\u001b[0m \u001b[0mcolors\u001b[0m \u001b[0;32mis\u001b[0m \u001b[0;32mNone\u001b[0m\u001b[0;34m:\u001b[0m\u001b[0;34m\u001b[0m\u001b[0;34m\u001b[0m\u001b[0m\n\u001b[1;32m   2933\u001b[0m             \u001b[0mget_next_color\u001b[0m \u001b[0;34m=\u001b[0m \u001b[0mself\u001b[0m\u001b[0;34m.\u001b[0m\u001b[0m_get_patches_for_fill\u001b[0m\u001b[0;34m.\u001b[0m\u001b[0mget_next_color\u001b[0m\u001b[0;34m\u001b[0m\u001b[0;34m\u001b[0m\u001b[0m\n",
            "\u001b[0;31mValueError\u001b[0m: 'explode' must be of length 'x'"
          ]
        },
        {
          "output_type": "display_data",
          "data": {
            "text/plain": [
              "<Figure size 1152x360 with 1 Axes>"
            ],
            "image/png": "[encoded data removed]"
          },
          "metadata": {
            "needs_background": "light"
          }
        }
      ],
      "source": [
        "# lets plot pie chart for the columns where we have very few categories\n",
        "plt.rcParams['figure.figsize'] = (16,5)\n",
        "\n",
        "# plotting a pie chart to represent share of Previous year Rating of the Employees\n",
        "plt.subplot(1, 3, 1)\n",
        "labels = hr['education'].value_counts().index\n",
        "sizes = hr['education'].value_counts()\n",
        "colors = plt.cm.copper(np.linspace(0, 1, 5))\n",
        "explode = [0, 0]\n",
        "           \n",
        "plt.pie(sizes, labels = labels, colors = colors, explode = explode, shadow = True, startangle = 90)\n",
        "plt.title('Education', fontsize = 20)\n",
        "\n",
        "# plotting a pie chart to represent share of Previous year Rating of the Employees\n",
        "plt.subplot(1, 3, 2)\n",
        "labels = hr['gender'].value_counts().index\n",
        "sizes = hr['gender'].value_counts()\n",
        "colors = plt.cm.copper(np.linspace(0, 1, 5))\n",
        "explode = [0, 0, 1]\n",
        "\n",
        "\n",
        "plt.pie(sizes, labels = labels, colors = colors, explode = explode, shadow = True, startangle = 90)\n",
        "plt.title('Gender', fontsize = 20)\n",
        "\n",
        "# plotting a pie chart to represent share of Previous year Rating of the Employees\n",
        "plt.subplot(1, 3, 3)\n",
        "labels = hr['recruitment_channel'].value_counts().index\n",
        "sizes = hr['recruitment_channel'].value_counts()\n",
        "colors = plt.cm.copper(np.linspace(0, 1, 5))\n",
        "explode = [0, 0]\n",
        "\n",
        "plt.pie(sizes, labels = labels, colors = colors, explode=explode,shadow = True, startangle = 90)\n",
        "plt.title('Recruitment Channel', fontsize = 20)\n",
        "\n",
        "plt.show()"
      ]
    },
    {
      "cell_type": "markdown",
      "id": "70b79061",
      "metadata": {
        "id": "70b79061"
      },
      "source": [
        "# BIVARIATE ANALYSIS\n",
        "\n",
        "### Bivariate analysis is one of the statistical analyses where two variables are observed.\n"
      ]
    },
    {
      "cell_type": "markdown",
      "id": "5724183c",
      "metadata": {
        "id": "5724183c"
      },
      "source": [
        "### Numerical - Numerical \n",
        "- Scatter Plot, Pair Plot, Heatmap"
      ]
    },
    {
      "cell_type": "markdown",
      "id": "9d2471f2",
      "metadata": {
        "id": "9d2471f2"
      },
      "source": [
        "#### SCATTER PLOT"
      ]
    },
    {
      "cell_type": "code",
      "execution_count": 43,
      "id": "6435da05",
      "metadata": {
        "colab": {
          "base_uri": "https://localhost:8080/",
          "height": 320
        },
        "id": "6435da05",
        "outputId": "e53375b1-e162-45e3-da65-bee4a58862a3"
      },
      "outputs": [
        {
          "output_type": "display_data",
          "data": {
            "text/plain": [
              "<Figure size 1152x360 with 1 Axes>"
            ],
            "image/png": "[encoded data removed]"
          },
          "metadata": {
            "needs_background": "light"
          }
        }
      ],
      "source": [
        "plt.scatter(hr.previous_year_rating, hr.avg_training_score)\n",
        "plt.show()"
      ]
    },
    {
      "cell_type": "markdown",
      "id": "40dbbb37",
      "metadata": {
        "id": "40dbbb37"
      },
      "source": [
        "#### PAIR PLOT"
      ]
    },
    {
      "cell_type": "code",
      "execution_count": 44,
      "id": "e7e5be70",
      "metadata": {
        "colab": {
          "base_uri": "https://localhost:8080/",
          "height": 550
        },
        "id": "e7e5be70",
        "outputId": "9066a0a0-8e11-4e04-b041-99a05a3e683a"
      },
      "outputs": [
        {
          "output_type": "display_data",
          "data": {
            "text/plain": [
              "<Figure size 540x540 with 12 Axes>"
            ],
            "image/png": "[encoded data removed]"
          },
          "metadata": {
            "needs_background": "light"
          }
        }
      ],
      "source": [
        "sns.pairplot(data=hr, vars=[\"no_of_trainings\", \"previous_year_rating\", \"avg_training_score\"])\n",
        "plt.show()"
      ]
    },
    {
      "cell_type": "markdown",
      "id": "b138b1b9",
      "metadata": {
        "id": "b138b1b9"
      },
      "source": [
        "### Quantify Using Correlation Values"
      ]
    },
    {
      "cell_type": "code",
      "execution_count": 69,
      "id": "d60aa06f",
      "metadata": {
        "colab": {
          "base_uri": "https://localhost:8080/",
          "height": 0
        },
        "id": "d60aa06f",
        "outputId": "c8209209-f3f1-49e0-bf1e-f25f7b77201f"
      },
      "outputs": [
        {
          "output_type": "execute_result",
          "data": {
            "text/plain": [
              "                         age  length_of_service  avg_training_score\n",
              "age                 1.000000           0.674529           -0.055324\n",
              "length_of_service   0.674529           1.000000           -0.032650\n",
              "avg_training_score -0.055324          -0.032650            1.000000"
            ],
            "text/html": [
              "\n",
              "  <div id=\"df-637e52cd-7d57-4f0c-af39-cac72d853551\">\n",
              "    <div class=\"colab-df-container\">\n",
              "      <div>\n",
              "<style scoped>\n",
              "    .dataframe tbody tr th:only-of-type {\n",
              "        vertical-align: middle;\n",
              "    }\n",
              "\n",
              "    .dataframe tbody tr th {\n",
              "        vertical-align: top;\n",
              "    }\n",
              "\n",
              "    .dataframe thead th {\n",
              "        text-align: right;\n",
              "    }\n",
              "</style>\n",
              "<table border=\"1\" class=\"dataframe\">\n",
              "  <thead>\n",
              "    <tr style=\"text-align: right;\">\n",
              "      <th></th>\n",
              "      <th>age</th>\n",
              "      <th>length_of_service</th>\n",
              "      <th>avg_training_score</th>\n",
              "    </tr>\n",
              "  </thead>\n",
              "  <tbody>\n",
              "    <tr>\n",
              "      <th>age</th>\n",
              "      <td>1.000000</td>\n",
              "      <td>0.674529</td>\n",
              "      <td>-0.055324</td>\n",
              "    </tr>\n",
              "    <tr>\n",
              "      <th>length_of_service</th>\n",
              "      <td>0.674529</td>\n",
              "      <td>1.000000</td>\n",
              "      <td>-0.032650</td>\n",
              "    </tr>\n",
              "    <tr>\n",
              "      <th>avg_training_score</th>\n",
              "      <td>-0.055324</td>\n",
              "      <td>-0.032650</td>\n",
              "      <td>1.000000</td>\n",
              "    </tr>\n",
              "  </tbody>\n",
              "</table>\n",
              "</div>\n",
              "      <button class=\"colab-df-convert\" onclick=\"convertToInteractive('df-637e52cd-7d57-4f0c-af39-cac72d853551')\"\n",
              "              title=\"Convert this dataframe to an interactive table.\"\n",
              "              style=\"display:none;\">\n",
              "        \n",
              "  <svg xmlns=\"http://www.w3.org/2000/svg\" height=\"24px\"viewBox=\"0 0 24 24\"\n",
              "       width=\"24px\">\n",
              "    <path d=\"M0 0h24v24H0V0z\" fill=\"none\"/>\n",
              "    <path d=\"M18.56 5.44l.94 2.06.94-2.06 2.06-.94-2.06-.94-.94-2.06-.94 2.06-2.06.94zm-11 1L8.5 8.5l.94-2.06 2.06-.94-2.06-.94L8.5 2.5l-.94 2.06-2.06.94zm10 10l.94 2.06.94-2.06 2.06-.94-2.06-.94-.94-2.06-.94 2.06-2.06.94z\"/><path d=\"M17.41 7.96l-1.37-1.37c-.4-.4-.92-.59-1.43-.59-.52 0-1.04.2-1.43.59L10.3 9.45l-7.72 7.72c-.78.78-.78 2.05 0 2.83L4 21.41c.39.39.9.59 1.41.59.51 0 1.02-.2 1.41-.59l7.78-7.78 2.81-2.81c.8-.78.8-2.07 0-2.86zM5.41 20L4 18.59l7.72-7.72 1.47 1.35L5.41 20z\"/>\n",
              "  </svg>\n",
              "      </button>\n",
              "      \n",
              "  <style>\n",
              "    .colab-df-container {\n",
              "      display:flex;\n",
              "      flex-wrap:wrap;\n",
              "      gap: 12px;\n",
              "    }\n",
              "\n",
              "    .colab-df-convert {\n",
              "      background-color: #E8F0FE;\n",
              "      border: none;\n",
              "      border-radius: 50%;\n",
              "      cursor: pointer;\n",
              "      display: none;\n",
              "      fill: #1967D2;\n",
              "      height: 32px;\n",
              "      padding: 0 0 0 0;\n",
              "      width: 32px;\n",
              "    }\n",
              "\n",
              "    .colab-df-convert:hover {\n",
              "      background-color: #E2EBFA;\n",
              "      box-shadow: 0px 1px 2px rgba(60, 64, 67, 0.3), 0px 1px 3px 1px rgba(60, 64, 67, 0.15);\n",
              "      fill: #174EA6;\n",
              "    }\n",
              "\n",
              "    [theme=dark] .colab-df-convert {\n",
              "      background-color: #3B4455;\n",
              "      fill: #D2E3FC;\n",
              "    }\n",
              "\n",
              "    [theme=dark] .colab-df-convert:hover {\n",
              "      background-color: #434B5C;\n",
              "      box-shadow: 0px 1px 3px 1px rgba(0, 0, 0, 0.15);\n",
              "      filter: drop-shadow(0px 1px 2px rgba(0, 0, 0, 0.3));\n",
              "      fill: #FFFFFF;\n",
              "    }\n",
              "  </style>\n",
              "\n",
              "      <script>\n",
              "        const buttonEl =\n",
              "          document.querySelector('#df-637e52cd-7d57-4f0c-af39-cac72d853551 button.colab-df-convert');\n",
              "        buttonEl.style.display =\n",
              "          google.colab.kernel.accessAllowed ? 'block' : 'none';\n",
              "\n",
              "        async function convertToInteractive(key) {\n",
              "          const element = document.querySelector('#df-637e52cd-7d57-4f0c-af39-cac72d853551');\n",
              "          const dataTable =\n",
              "            await google.colab.kernel.invokeFunction('convertToInteractive',\n",
              "                                                     [key], {});\n",
              "          if (!dataTable) return;\n",
              "\n",
              "          const docLinkHtml = 'Like what you see? Visit the ' +\n",
              "            '<a target=\"_blank\" href=https://colab.research.google.com/notebooks/data_table.ipynb>data table notebook</a>'\n",
              "            + ' to learn more about interactive tables.';\n",
              "          element.innerHTML = '';\n",
              "          dataTable['output_type'] = 'display_data';\n",
              "          await google.colab.output.renderOutput(dataTable, element);\n",
              "          const docLink = document.createElement('div');\n",
              "          docLink.innerHTML = docLinkHtml;\n",
              "          element.appendChild(docLink);\n",
              "        }\n",
              "      </script>\n",
              "    </div>\n",
              "  </div>\n",
              "  "
            ]
          },
          "metadata": {},
          "execution_count": 69
        }
      ],
      "source": [
        "hr[[\"age\", \"length_of_service\", \"avg_training_score\"]].corr()"
      ]
    },
    {
      "cell_type": "markdown",
      "id": "a6fc6b97",
      "metadata": {
        "id": "a6fc6b97"
      },
      "source": [
        "### *Correlation Heatmap*\n",
        "- Heatmap is used to show the corrleation between the columns this is very useful for regression problems as one of the assumptions of linear model is that the features should not have correlation."
      ]
    },
    {
      "cell_type": "markdown",
      "id": "0962b449",
      "metadata": {
        "id": "0962b449"
      },
      "source": [
        "### Numerical - Categorical"
      ]
    },
    {
      "cell_type": "markdown",
      "id": "7577d1e3",
      "metadata": {
        "id": "7577d1e3"
      },
      "source": [
        "#### BAR PLOT"
      ]
    },
    {
      "cell_type": "code",
      "execution_count": 70,
      "id": "db0311da",
      "metadata": {
        "colab": {
          "base_uri": "https://localhost:8080/",
          "height": 0
        },
        "id": "db0311da",
        "outputId": "ba0c8246-e4c5-4716-e2d0-029a9c72e5f3"
      },
      "outputs": [
        {
          "output_type": "display_data",
          "data": {
            "text/plain": [
              "<Figure size 1080x504 with 1 Axes>"
            ],
            "image/png": "[encoded data removed]"
          },
          "metadata": {
            "needs_background": "light"
          }
        }
      ],
      "source": [
        "sns.barplot(x='recruitment_channel',y='no_of_trainings',data=hr)\n",
        "plt.show()"
      ]
    },
    {
      "cell_type": "markdown",
      "id": "d041cf94",
      "metadata": {
        "id": "d041cf94"
      },
      "source": [
        "#### BOX PLOT"
      ]
    },
    {
      "cell_type": "code",
      "execution_count": 71,
      "id": "b20acb8a",
      "metadata": {
        "scrolled": true,
        "colab": {
          "base_uri": "https://localhost:8080/",
          "height": 0
        },
        "id": "b20acb8a",
        "outputId": "7c8500cf-369d-4952-fbf5-3c57c32295da"
      },
      "outputs": [
        {
          "output_type": "display_data",
          "data": {
            "text/plain": [
              "<Figure size 1080x504 with 1 Axes>"
            ],
            "image/png": "[encoded data removed]"
          },
          "metadata": {
            "needs_background": "light"
          }
        }
      ],
      "source": [
        "sns.boxplot(x='education',y='age',data=hr, palette='rainbow')\n",
        "plt.show()"
      ]
    },
    {
      "cell_type": "markdown",
      "id": "a50d7381",
      "metadata": {
        "id": "a50d7381"
      },
      "source": [
        "- The coloured region in all the categories represent the 'Inter Quartile Range' which is calculated by (Q3-Q1). This represents the range where most of the data is distributed"
      ]
    },
    {
      "cell_type": "markdown",
      "id": "0b3f21f5",
      "metadata": {
        "id": "0b3f21f5"
      },
      "source": [
        "### Categorical - Categorical"
      ]
    },
    {
      "cell_type": "code",
      "execution_count": 72,
      "id": "343d7ebb",
      "metadata": {
        "scrolled": false,
        "colab": {
          "base_uri": "https://localhost:8080/",
          "height": 0
        },
        "id": "343d7ebb",
        "outputId": "22726354-3c2a-400a-cbac-4fea1ff948cf"
      },
      "outputs": [
        {
          "output_type": "display_data",
          "data": {
            "text/plain": [
              "<Figure size 864x576 with 1 Axes>"
            ],
            "image/png": "[encoded data removed]"
          },
          "metadata": {
            "needs_background": "light"
          }
        }
      ],
      "source": [
        "plt.figure(figsize=(12,8))\n",
        "sns.countplot(hr['age'],hue=hr['department'])\n",
        "plt.show()"
      ]
    },
    {
      "cell_type": "markdown",
      "id": "9175ed55",
      "metadata": {
        "id": "9175ed55"
      },
      "source": [
        "- Regardless of the age, most employees work in the Sales and Marketing department."
      ]
    },
    {
      "cell_type": "code",
      "execution_count": 73,
      "id": "dac905b9",
      "metadata": {
        "scrolled": false,
        "colab": {
          "base_uri": "https://localhost:8080/",
          "height": 0
        },
        "id": "dac905b9",
        "outputId": "a201123a-19c8-40eb-c6a2-dd91683ff8c6"
      },
      "outputs": [
        {
          "output_type": "display_data",
          "data": {
            "text/plain": [
              "<Figure size 864x576 with 1 Axes>"
            ],
            "image/png": "[encoded data removed]"
          },
          "metadata": {
            "needs_background": "light"
          }
        }
      ],
      "source": [
        "plt.figure(figsize=(12,8))\n",
        "sns.countplot(hr['education'],hue=hr['department'])\n",
        "plt.show()"
      ]
    },
    {
      "cell_type": "markdown",
      "id": "65a56a3b",
      "metadata": {
        "id": "65a56a3b"
      },
      "source": [
        "- Most of the employees have the Bachelor's degree.\n",
        "- Also, suprisingly most of them are from the Sales and Marketing department."
      ]
    },
    {
      "cell_type": "code",
      "execution_count": 74,
      "id": "281801bb",
      "metadata": {
        "colab": {
          "base_uri": "https://localhost:8080/",
          "height": 0
        },
        "id": "281801bb",
        "outputId": "2714881f-1489-4598-809f-b67847a03db5"
      },
      "outputs": [
        {
          "output_type": "display_data",
          "data": {
            "text/plain": [
              "<Figure size 864x576 with 1 Axes>"
            ],
            "image/png": "[encoded data removed]"
          },
          "metadata": {
            "needs_background": "light"
          }
        }
      ],
      "source": [
        "plt.figure(figsize=(12,8))\n",
        "sns.countplot(hr['region'],hue=hr['is_promoted'],palette='Set1')\n",
        "plt.xticks(rotation=90)\n",
        "plt.show()"
      ]
    },
    {
      "cell_type": "markdown",
      "id": "ef375a3c",
      "metadata": {
        "id": "ef375a3c"
      },
      "source": [
        "- Employees are more from the region-2 and most of the employees are promoted from this region.\n",
        "- region=7, region-22, region-2 have high promotions as there are more employees from this region."
      ]
    },
    {
      "cell_type": "markdown",
      "id": "8c66f92f",
      "metadata": {
        "id": "8c66f92f"
      },
      "source": [
        "## STATISTICAL ANALYSIS"
      ]
    },
    {
      "cell_type": "markdown",
      "id": "8719cce7",
      "metadata": {
        "id": "8719cce7"
      },
      "source": [
        "## Central Limit Theorem\n",
        "#The Central Limit Theorem(CLT) states that for any data, provided a high number of samples have been taken.\n",
        "- Sampling Distribution Mean(uₓ-) = Population Mean(u)\n",
        "- Sampling distribution’s standard deviation (Standard error) = sigma/sq.root(n) ~S/sq.root(n)\n",
        "- For n > 30, the sampling distribution becomes a normal distribution."
      ]
    },
    {
      "cell_type": "code",
      "execution_count": 75,
      "id": "756bccca",
      "metadata": {
        "colab": {
          "base_uri": "https://localhost:8080/"
        },
        "id": "756bccca",
        "outputId": "06b5236b-bbb5-4d9b-d28d-1d9cf508b25a"
      },
      "outputs": [
        {
          "output_type": "execute_result",
          "data": {
            "text/plain": [
              "(8089, 12)"
            ]
          },
          "metadata": {},
          "execution_count": 75
        }
      ],
      "source": [
        "hr.shape"
      ]
    },
    {
      "cell_type": "code",
      "execution_count": 76,
      "id": "0e1f84cf",
      "metadata": {
        "colab": {
          "base_uri": "https://localhost:8080/",
          "height": 424
        },
        "id": "0e1f84cf",
        "outputId": "a19a0a21-0db8-4671-b00e-6db3a5d081b9"
      },
      "outputs": [
        {
          "output_type": "execute_result",
          "data": {
            "text/plain": [
              "      age\n",
              "0      35\n",
              "1      30\n",
              "2      34\n",
              "3      39\n",
              "4      45\n",
              "...   ...\n",
              "8084   30\n",
              "8085   41\n",
              "8086   30\n",
              "8087   33\n",
              "8088   40\n",
              "\n",
              "[8089 rows x 1 columns]"
            ],
            "text/html": [
              "\n",
              "  <div id=\"df-188ac9c7-ee42-409e-ba1c-5c9d5c086eb9\">\n",
              "    <div class=\"colab-df-container\">\n",
              "      <div>\n",
              "<style scoped>\n",
              "    .dataframe tbody tr th:only-of-type {\n",
              "        vertical-align: middle;\n",
              "    }\n",
              "\n",
              "    .dataframe tbody tr th {\n",
              "        vertical-align: top;\n",
              "    }\n",
              "\n",
              "    .dataframe thead th {\n",
              "        text-align: right;\n",
              "    }\n",
              "</style>\n",
              "<table border=\"1\" class=\"dataframe\">\n",
              "  <thead>\n",
              "    <tr style=\"text-align: right;\">\n",
              "      <th></th>\n",
              "      <th>age</th>\n",
              "    </tr>\n",
              "  </thead>\n",
              "  <tbody>\n",
              "    <tr>\n",
              "      <th>0</th>\n",
              "      <td>35</td>\n",
              "    </tr>\n",
              "    <tr>\n",
              "      <th>1</th>\n",
              "      <td>30</td>\n",
              "    </tr>\n",
              "    <tr>\n",
              "      <th>2</th>\n",
              "      <td>34</td>\n",
              "    </tr>\n",
              "    <tr>\n",
              "      <th>3</th>\n",
              "      <td>39</td>\n",
              "    </tr>\n",
              "    <tr>\n",
              "      <th>4</th>\n",
              "      <td>45</td>\n",
              "    </tr>\n",
              "    <tr>\n",
              "      <th>...</th>\n",
              "      <td>...</td>\n",
              "    </tr>\n",
              "    <tr>\n",
              "      <th>8084</th>\n",
              "      <td>30</td>\n",
              "    </tr>\n",
              "    <tr>\n",
              "      <th>8085</th>\n",
              "      <td>41</td>\n",
              "    </tr>\n",
              "    <tr>\n",
              "      <th>8086</th>\n",
              "      <td>30</td>\n",
              "    </tr>\n",
              "    <tr>\n",
              "      <th>8087</th>\n",
              "      <td>33</td>\n",
              "    </tr>\n",
              "    <tr>\n",
              "      <th>8088</th>\n",
              "      <td>40</td>\n",
              "    </tr>\n",
              "  </tbody>\n",
              "</table>\n",
              "<p>8089 rows × 1 columns</p>\n",
              "</div>\n",
              "      <button class=\"colab-df-convert\" onclick=\"convertToInteractive('df-188ac9c7-ee42-409e-ba1c-5c9d5c086eb9')\"\n",
              "              title=\"Convert this dataframe to an interactive table.\"\n",
              "              style=\"display:none;\">\n",
              "        \n",
              "  <svg xmlns=\"http://www.w3.org/2000/svg\" height=\"24px\"viewBox=\"0 0 24 24\"\n",
              "       width=\"24px\">\n",
              "    <path d=\"M0 0h24v24H0V0z\" fill=\"none\"/>\n",
              "    <path d=\"M18.56 5.44l.94 2.06.94-2.06 2.06-.94-2.06-.94-.94-2.06-.94 2.06-2.06.94zm-11 1L8.5 8.5l.94-2.06 2.06-.94-2.06-.94L8.5 2.5l-.94 2.06-2.06.94zm10 10l.94 2.06.94-2.06 2.06-.94-2.06-.94-.94-2.06-.94 2.06-2.06.94z\"/><path d=\"M17.41 7.96l-1.37-1.37c-.4-.4-.92-.59-1.43-.59-.52 0-1.04.2-1.43.59L10.3 9.45l-7.72 7.72c-.78.78-.78 2.05 0 2.83L4 21.41c.39.39.9.59 1.41.59.51 0 1.02-.2 1.41-.59l7.78-7.78 2.81-2.81c.8-.78.8-2.07 0-2.86zM5.41 20L4 18.59l7.72-7.72 1.47 1.35L5.41 20z\"/>\n",
              "  </svg>\n",
              "      </button>\n",
              "      \n",
              "  <style>\n",
              "    .colab-df-container {\n",
              "      display:flex;\n",
              "      flex-wrap:wrap;\n",
              "      gap: 12px;\n",
              "    }\n",
              "\n",
              "    .colab-df-convert {\n",
              "      background-color: #E8F0FE;\n",
              "      border: none;\n",
              "      border-radius: 50%;\n",
              "      cursor: pointer;\n",
              "      display: none;\n",
              "      fill: #1967D2;\n",
              "      height: 32px;\n",
              "      padding: 0 0 0 0;\n",
              "      width: 32px;\n",
              "    }\n",
              "\n",
              "    .colab-df-convert:hover {\n",
              "      background-color: #E2EBFA;\n",
              "      box-shadow: 0px 1px 2px rgba(60, 64, 67, 0.3), 0px 1px 3px 1px rgba(60, 64, 67, 0.15);\n",
              "      fill: #174EA6;\n",
              "    }\n",
              "\n",
              "    [theme=dark] .colab-df-convert {\n",
              "      background-color: #3B4455;\n",
              "      fill: #D2E3FC;\n",
              "    }\n",
              "\n",
              "    [theme=dark] .colab-df-convert:hover {\n",
              "      background-color: #434B5C;\n",
              "      box-shadow: 0px 1px 3px 1px rgba(0, 0, 0, 0.15);\n",
              "      filter: drop-shadow(0px 1px 2px rgba(0, 0, 0, 0.3));\n",
              "      fill: #FFFFFF;\n",
              "    }\n",
              "  </style>\n",
              "\n",
              "      <script>\n",
              "        const buttonEl =\n",
              "          document.querySelector('#df-188ac9c7-ee42-409e-ba1c-5c9d5c086eb9 button.colab-df-convert');\n",
              "        buttonEl.style.display =\n",
              "          google.colab.kernel.accessAllowed ? 'block' : 'none';\n",
              "\n",
              "        async function convertToInteractive(key) {\n",
              "          const element = document.querySelector('#df-188ac9c7-ee42-409e-ba1c-5c9d5c086eb9');\n",
              "          const dataTable =\n",
              "            await google.colab.kernel.invokeFunction('convertToInteractive',\n",
              "                                                     [key], {});\n",
              "          if (!dataTable) return;\n",
              "\n",
              "          const docLinkHtml = 'Like what you see? Visit the ' +\n",
              "            '<a target=\"_blank\" href=https://colab.research.google.com/notebooks/data_table.ipynb>data table notebook</a>'\n",
              "            + ' to learn more about interactive tables.';\n",
              "          element.innerHTML = '';\n",
              "          dataTable['output_type'] = 'display_data';\n",
              "          await google.colab.output.renderOutput(dataTable, element);\n",
              "          const docLink = document.createElement('div');\n",
              "          docLink.innerHTML = docLinkHtml;\n",
              "          element.appendChild(docLink);\n",
              "        }\n",
              "      </script>\n",
              "    </div>\n",
              "  </div>\n",
              "  "
            ]
          },
          "metadata": {},
          "execution_count": 76
        }
      ],
      "source": [
        "#Extracting the age column from the dataset\n",
        "df = hr[['age']]\n",
        "df"
      ]
    },
    {
      "cell_type": "code",
      "execution_count": 77,
      "id": "a04590ea",
      "metadata": {
        "colab": {
          "base_uri": "https://localhost:8080/",
          "height": 442
        },
        "id": "a04590ea",
        "outputId": "4555a6bc-d30e-4a91-aff9-63355b456480"
      },
      "outputs": [
        {
          "output_type": "display_data",
          "data": {
            "text/plain": [
              "<Figure size 1080x504 with 1 Axes>"
            ],
            "image/png": "[encoded data removed]"
          },
          "metadata": {
            "needs_background": "light"
          }
        }
      ],
      "source": [
        "# Plotting the distribution graph using Seaborn Library\n",
        "sns.distplot(df.age) \n",
        "plt.show()"
      ]
    },
    {
      "cell_type": "code",
      "execution_count": 78,
      "id": "0423f0b2",
      "metadata": {
        "colab": {
          "base_uri": "https://localhost:8080/"
        },
        "id": "0423f0b2",
        "outputId": "527e0df8-4a65-4dcf-d6d8-a0c887566f49"
      },
      "outputs": [
        {
          "output_type": "execute_result",
          "data": {
            "text/plain": [
              "34.78959080232414"
            ]
          },
          "metadata": {},
          "execution_count": 78
        }
      ],
      "source": [
        "#Mean of the age column\n",
        "df.age.mean()"
      ]
    },
    {
      "cell_type": "markdown",
      "id": "d1bef9b0",
      "metadata": {
        "id": "d1bef9b0"
      },
      "source": [
        "This is the true mean weight of the population. This is the population parameter."
      ]
    },
    {
      "cell_type": "code",
      "execution_count": 79,
      "id": "99f325c8",
      "metadata": {
        "colab": {
          "base_uri": "https://localhost:8080/"
        },
        "id": "99f325c8",
        "outputId": "a2ad67fc-5ac3-44c1-f767-7fe8b313f8f6"
      },
      "outputs": [
        {
          "output_type": "execute_result",
          "data": {
            "text/plain": [
              "7.654975525108124"
            ]
          },
          "metadata": {},
          "execution_count": 79
        }
      ],
      "source": [
        "# Standard deviation of the age column\n",
        "df.age.std()"
      ]
    },
    {
      "cell_type": "code",
      "execution_count": 80,
      "id": "dc46bb9e",
      "metadata": {
        "id": "dc46bb9e"
      },
      "outputs": [],
      "source": [
        "# Taking a sample size of 30\n",
        "samp_size = 30"
      ]
    },
    {
      "cell_type": "code",
      "execution_count": 81,
      "id": "52a01dfc",
      "metadata": {
        "colab": {
          "base_uri": "https://localhost:8080/"
        },
        "id": "52a01dfc",
        "outputId": "586a9eba-ae58-4903-d1b2-cda1bca252a7"
      },
      "outputs": [
        {
          "output_type": "execute_result",
          "data": {
            "text/plain": [
              "34.1"
            ]
          },
          "metadata": {},
          "execution_count": 81
        }
      ],
      "source": [
        "#Mean of the sample taken \n",
        "df.age.sample(samp_size).mean()"
      ]
    },
    {
      "cell_type": "markdown",
      "id": "4519e026",
      "metadata": {
        "id": "4519e026"
      },
      "source": [
        "This is different from the population mean.\n",
        "We'll check with another sample."
      ]
    },
    {
      "cell_type": "code",
      "execution_count": 82,
      "id": "09ecdc29",
      "metadata": {
        "colab": {
          "base_uri": "https://localhost:8080/"
        },
        "id": "09ecdc29",
        "outputId": "803847b2-04c1-4089-bd57-e4cab40dfbff"
      },
      "outputs": [
        {
          "output_type": "execute_result",
          "data": {
            "text/plain": [
              "35.03333333333333"
            ]
          },
          "metadata": {},
          "execution_count": 82
        }
      ],
      "source": [
        "df.age.sample(samp_size).mean()"
      ]
    },
    {
      "cell_type": "markdown",
      "id": "c93cc168",
      "metadata": {
        "id": "c93cc168"
      },
      "source": [
        "- This too came out to be different.\n",
        "- Each time we take a sample, our mean value is different. There is variability in the sample mean itself.We'll assess this.\n",
        "- We'll take many samples from the data, and plot a histogram of the same."
      ]
    },
    {
      "cell_type": "code",
      "execution_count": 83,
      "id": "4a64b6a3",
      "metadata": {
        "id": "4a64b6a3"
      },
      "outputs": [],
      "source": [
        "## Creating multiple number of samples and calculating their mean\n",
        "sample_means = [df.age.sample(samp_size).mean() for i in range(1000)]\n",
        "## Storing the mean values in a Series using Pandas\n",
        "sample_means = pd.Series(sample_means)"
      ]
    },
    {
      "cell_type": "code",
      "execution_count": 84,
      "id": "2aa4e756",
      "metadata": {
        "colab": {
          "base_uri": "https://localhost:8080/"
        },
        "id": "2aa4e756",
        "outputId": "ea761cff-3cb1-4d68-bc7a-4777f900592e"
      },
      "outputs": [
        {
          "output_type": "execute_result",
          "data": {
            "text/plain": [
              "1000"
            ]
          },
          "metadata": {},
          "execution_count": 84
        }
      ],
      "source": [
        "## Verifying the total number of samples collected\n",
        "len(sample_means)"
      ]
    },
    {
      "cell_type": "code",
      "execution_count": 85,
      "id": "782b99d7",
      "metadata": {
        "colab": {
          "base_uri": "https://localhost:8080/",
          "height": 428
        },
        "id": "782b99d7",
        "outputId": "bf94267f-8cb1-4c83-ebfc-9fe3b096a0e0"
      },
      "outputs": [
        {
          "output_type": "display_data",
          "data": {
            "text/plain": [
              "<Figure size 1080x504 with 1 Axes>"
            ],
            "image/png": "[encoded data removed]"
          },
          "metadata": {
            "needs_background": "light"
          }
        }
      ],
      "source": [
        "# Plotting the density for the sample means.\n",
        "sns.distplot(sample_means)\n",
        "plt.show()"
      ]
    },
    {
      "cell_type": "code",
      "execution_count": 86,
      "id": "edb02cbf",
      "metadata": {
        "colab": {
          "base_uri": "https://localhost:8080/"
        },
        "id": "edb02cbf",
        "outputId": "c99a5dc4-5668-4ee4-b1fb-2ad8385f1567"
      },
      "outputs": [
        {
          "output_type": "execute_result",
          "data": {
            "text/plain": [
              "34.74116666666667"
            ]
          },
          "metadata": {},
          "execution_count": 86
        }
      ],
      "source": [
        "# Mean value of all the 1000 Samples\n",
        "sample_means.mean()"
      ]
    },
    {
      "cell_type": "markdown",
      "id": "15b426f6",
      "metadata": {
        "id": "15b426f6"
      },
      "source": [
        "This is approximately same as the parent mean."
      ]
    },
    {
      "cell_type": "code",
      "execution_count": 87,
      "id": "ad14bf4c",
      "metadata": {
        "colab": {
          "base_uri": "https://localhost:8080/"
        },
        "id": "ad14bf4c",
        "outputId": "789b3b28-48aa-496f-986b-56324e0c022b"
      },
      "outputs": [
        {
          "output_type": "execute_result",
          "data": {
            "text/plain": [
              "1.4073775515773281"
            ]
          },
          "metadata": {},
          "execution_count": 87
        }
      ],
      "source": [
        "# Standard Deviation of all the 1000 Samples\n",
        "sample_means.std()"
      ]
    },
    {
      "cell_type": "markdown",
      "id": "5b7b06ac",
      "metadata": {
        "id": "5b7b06ac"
      },
      "source": [
        "#### - Population std vs. std of sampling mean"
      ]
    },
    {
      "cell_type": "code",
      "execution_count": 88,
      "id": "e2fce9e4",
      "metadata": {
        "colab": {
          "base_uri": "https://localhost:8080/"
        },
        "id": "e2fce9e4",
        "outputId": "05c4c4f5-0bd9-478f-ad50-392360e22833"
      },
      "outputs": [
        {
          "output_type": "execute_result",
          "data": {
            "text/plain": [
              "1.3976009240838914"
            ]
          },
          "metadata": {},
          "execution_count": 88
        }
      ],
      "source": [
        "df.age.std()/np.sqrt(samp_size)"
      ]
    },
    {
      "cell_type": "markdown",
      "id": "a0ae872c",
      "metadata": {
        "id": "a0ae872c"
      },
      "source": [
        "### Effect of sample size"
      ]
    },
    {
      "cell_type": "code",
      "execution_count": 89,
      "id": "e1811fdc",
      "metadata": {
        "id": "e1811fdc"
      },
      "outputs": [],
      "source": [
        "sample_sizes = [3, 10, 30, 50, 100, 200]"
      ]
    },
    {
      "cell_type": "code",
      "execution_count": 90,
      "id": "6daba6df",
      "metadata": {
        "colab": {
          "base_uri": "https://localhost:8080/",
          "height": 444
        },
        "id": "6daba6df",
        "outputId": "fb8ddc04-1e3c-4cb1-fa84-501527057a44"
      },
      "outputs": [
        {
          "output_type": "display_data",
          "data": {
            "text/plain": [
              "<Figure size 720x504 with 6 Axes>"
            ],
            "image/png": "[encoded data removed]"
          },
          "metadata": {
            "needs_background": "light"
          }
        }
      ],
      "source": [
        "plt.figure(figsize=[10,7])\n",
        "for ind, samp_size in enumerate(sample_sizes):\n",
        "    sample_means = [df.age.sample(samp_size).mean() for i in range(1000)]\n",
        "    plt.subplot(2,3,ind+1)\n",
        "    sns.distplot(sample_means, bins=25)\n",
        "    plt.title(\"Sample size: \"+str(samp_size))\n",
        "plt.show()"
      ]
    },
    {
      "cell_type": "markdown",
      "id": "598fa2a3",
      "metadata": {
        "id": "598fa2a3"
      },
      "source": [
        "- From the above graphs, we can say that, when the sample size is small, the resultant sampling distribution is far from normal. But as the sample size increases, the sampling distribution gets normal. Hence, we should consider atleast 30 samples from the population to compute sample means to build the sampling distribution.\n",
        "\n",
        "\n",
        "- Also, for n > 30, the sampling distribution becomes a normal distribution."
      ]
    },
    {
      "cell_type": "markdown",
      "id": "880b7edd",
      "metadata": {
        "id": "880b7edd"
      },
      "source": [
        "# MULTIVARIATE ANALYSIS"
      ]
    },
    {
      "cell_type": "markdown",
      "id": "986510de",
      "metadata": {
        "id": "986510de"
      },
      "source": [
        "#### Multivariate analysis is based on the principles of multivariate statistics, which involves observation and analysis of more than one statistical outcome variable at a time."
      ]
    },
    {
      "cell_type": "code",
      "execution_count": 91,
      "id": "94723413",
      "metadata": {
        "colab": {
          "base_uri": "https://localhost:8080/",
          "height": 460
        },
        "id": "94723413",
        "outputId": "5b5069de-bfe5-49b7-d1ff-5edea48678ed"
      },
      "outputs": [
        {
          "output_type": "display_data",
          "data": {
            "text/plain": [
              "<Figure size 1080x504 with 1 Axes>"
            ],
            "image/png": "[encoded data removed]"
          },
          "metadata": {
            "needs_background": "light"
          }
        }
      ],
      "source": [
        "# Lets check the relation of Departments and Promotions when they won awards ?\n",
        "\n",
        "plt.rcParams['figure.figsize'] = (15, 7)\n",
        "sns.barplot(hr['department'], hr['avg_training_score'], hue = hr['gender'], palette = 'autumn')\n",
        "plt.title('Chances of Promotion in each Department when they have won some Awards too', fontsize = 15)\n",
        "plt.ylabel('Promoted or not', fontsize = 10)\n",
        "plt.xlabel('Departments', fontsize = 10)\n",
        "plt.show()"
      ]
    },
    {
      "cell_type": "markdown",
      "id": "842eb5b2",
      "metadata": {
        "id": "842eb5b2"
      },
      "source": [
        "- Clearly, females have more chances of getting promoted as compared to the males in their departments.\n",
        "- Women belonging to the R&D Department are most likely to get promoted. "
      ]
    },
    {
      "cell_type": "markdown",
      "id": "7aac08fb",
      "metadata": {
        "id": "7aac08fb"
      },
      "source": [
        "## Various Assumptions:\n",
        "#### - Most of the employees are from the Sales and Marketing department.\n",
        "#### - Regardless of the age, employees are promoted unbiasedly.\n",
        "#### - Females are less in number but rather have high promotion rate than their male counterparts.\n",
        "#### - People owning a Bachelor's degree are more likely to get promoted as compared to the senior graduates.\n",
        "#### - Women belonging to the R&D Department are most likely to get promoted."
      ]
    }
  ],
  "metadata": {
    "kernelspec": {
      "display_name": "Python 3 (ipykernel)",
      "language": "python",
      "name": "python3"
    },
    "language_info": {
      "codemirror_mode": {
        "name": "ipython",
        "version": 3
      },
      "file_extension": ".py",
      "mimetype": "text/x-python",
      "name": "python",
      "nbconvert_exporter": "python",
      "pygments_lexer": "ipython3",
      "version": "3.9.7"
    },
    "colab": {
      "provenance": [],
      "collapsed_sections": [
        "b3fccfcd",
        "a7b53e04",
        "b347942b",
        "0b9d7de1",
        "695a5de0",
        "e894de55",
        "0f9dd6b5",
        "8ddeb2e5",
        "b138b1b9",
        "a6fc6b97",
        "0962b449",
        "7577d1e3",
        "d041cf94",
        "0b3f21f5",
        "8c66f92f",
        "7aac08fb"
      ],
      "include_colab_link": true
    }
  },
  "nbformat": 4,
  "nbformat_minor": 5
}